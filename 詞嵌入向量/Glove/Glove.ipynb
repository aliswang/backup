{
 "cells": [
  {
   "cell_type": "code",
   "execution_count": 1,
   "metadata": {},
   "outputs": [],
   "source": [
    "from __future__ import print_function\n",
    "import argparse\n",
    "import pprint\n",
    "import gensim\n",
    "\n",
    "from glove import Glove\n",
    "from glove import Corpus\n",
    "\n",
    "\n",
    "def read_corpus(filename):\n",
    "\n",
    "    delchars = [chr(c) for c in range(256)]\n",
    "    delchars = [x for x in delchars if not x.isalnum()]\n",
    "    delchars.remove(' ')\n",
    "    delchars = ''.join(delchars)\n",
    "\n",
    "    with open(filename, 'r') as datafile:\n",
    "        for line in datafile:\n",
    "            yield line.lower().translate(None, delchars).split(' ')\n",
    "\n",
    "\n",
    "def read_wikipedia_corpus(filename):\n",
    "\n",
    "    # We don't want to do a dictionary construction pass.\n",
    "    corpus = gensim.corpora.WikiCorpus(filename, dictionary={})\n",
    "\n",
    "    for text in corpus.get_texts():\n",
    "        yield text"
   ]
  },
  {
   "cell_type": "code",
   "execution_count": 2,
   "metadata": {
    "scrolled": true
   },
   "outputs": [
    {
     "name": "stdout",
     "output_type": "stream",
     "text": [
      "read  train  files:  25000\n",
      "read  test  files:  25000\n",
      "An intriguingly bold film weaves the seemingly effortless camerawork with some superb casting and an explosive soundtrack to plot the damaging effects of the crime and corruption of the Santiago underworld on 2 naive young brothers from the southern city of Temuco.Film debutant Daniella Rios is the seductive erotic dancer Gracia, working in the nightclub owned by the face of the new mini-wave in Chilean film production, Alejandro Trejo. The elder brother, played maturely by Nestor Cantillana, is easily convinced to become Trejo's lead henchman, after a night at the stripclub to celebrate younger brother Victor's (Juan Pablo Miranda) seventeenth birthday. From the establishing shot of this opening scene, the film explodes into neo-noir exploration of everything the outside world doesn't usually expect to see in this country so stereotypically conservative and catholic.Gracia's charms of seduction attract the three men like bees to honey, although the circular narrative of the three-way fantasy romance revolves around the linear portrayal of major international drug deals between Trejo's men and the 'Gringo', Eduardo Barril. Power relations become a vital theme, as society's outsiders merge in a mini-family. The prostitute holds an exotic spell over all the chilean men in the film, emerging from her ambiguous position in the periphery of society, and is seen as holding the key to all three men's futures. The relationships between Trejo and Cantillana become important, as the boys' parents are conspicious by their absence (one assumes they still live in Temuco). Therefore it is Trejo, el padrino, who 'adopts' Cantillana, and effectively 'makes him' as a man in the city. Miranda rapidly becomes the desperate outsider, as his dependency on his 'father figure', Cantillana, becomes increasingly strained by jealousy over the beautiful Gracia. However, Miranda remains trapped by the constraint of still being in school - he is dependent on Cantillana, who is dependent on Trejo, for the money to survive. Trejo, in turn, is under the thumb of the 'Gringo', and his wealth has been accumulated through drug deals and well as his strip clubs. The figure of Gracia acts as a time bomb viewed as a beautiful firework, she wraps a web of beauty inside the patriarchy but the strain can only lead to one climax.As the tensions of these power relations come to head, Gracia remains ambiguously elusive. The viewer is never sure which male figure she will commit to. The film concludes tragically and explosively in a shoot out which realigns power relations and erases half the major male protanganists. The final shot of Miranda's beaten face speeding down the PanAmericano highway is despairingly powerful. The boy has been sucked in by the lure of the city's underworld, yet has lost his only visible family, and his woman, who is his only friend in the film. He has nothing. The overriding metaphors are bold and brave. This is a gangster film in Chile. The notions of family, no sex before marriage etc, are abolished, and instead the harsh realities of the other side of Santiago's coin are displayed in all their savage glory. Trejo beats Rios brutally, Rios and Miranda make love in a cinema reel room - a whore having sex with a minor she barely knows. The 'gringos' are seen to have a financial hold over this small Latin American nation, but not through the copper mines, through the illegal path of drugs.Waissbluth's triumph is in his presentation of this dark underworld, which raises so many social questions, more perhaps than the record-breakingly successful Sexo Con Amor, within a slick, smooth firecracker of a film, which place this film firmly alongside Sexo Con Amor, Taxi Para Tres, and El chacotero Sentimental, as cinematic evidence that Chile is well and truly artistically alive and kicking in the post-transition period 15 years after the censorship of the Military Regime.\n",
      "1\n",
      "This hodge-podge adapted from a Gore Vidal novel (actually one of the great American writers) makes THE MAGIC CHRISTIAN and VALLEY OF THE DOLLS look like Fellini art-works. Raquel Welch, with an incredible body (and she's actually not very tall) in a lead role (except for KANSAS CITY BOMBER when she was quite good) playing Rex Reed's (bad movie reviewer; not critic) alter-ego, only to be surrounded by drag queen (great chick) Mae West, horny John Huston, a young and \"naive\" Farrah Fawcett (pre-Lee Majors; what a shame), and other various creep-azoids to pretend to spoof WAY too may things has nothing going for it except inter-spliced old films clips (i.e. Widmark in KISS OF DEATH, Lena Horne)...JUST so they can continue to bleed the life out of everyone.A 2 out of 10. Best performance = ?. It's so bad, it's worth seeing!\n",
      "0\n",
      "Ostensibly a story about the young child of Jimmy Stewart and Doris Day. The kid gets kidnapped to keep his parents quiet. They know something about a plot to assassinate the ambassador of an unnamed country during a performance at Albert Hall in London.The movie is rich in Hitchcockian incidents. A friendly but opaque Frenchman seems to grill the innocent Stewart -- a doctor from Indiana -- a little too intensely to be merely idly curious. Later the Frenchman shows up in Arab disguise, a knife in his back, and whispers some information about the murder plot to Stewart. Stewart tells his wife -- Doris Day looking very saucy indeed -- but refuses to cooperate with the police and risk his son's life.Instead the couple try to track down the assassins, buy them off, and get their son back, taking them from Morocco, where Hitchcock has given us his usual tourist's eye view of the customs, locations, and food, to London. There is a hilarious wild goose chase involving a set-to between Stewart and the staff of a taxidermy shop. The staff are more concerned about guarding their half-stuffed specimens than anything else, and they shuffle around protectively holding the carcasses of a leopard and a swordfish. In the course of the scuffle, Stewart manages to save his throat from being cut by the swordfish bill, but is bitten on the hand by a stuffed tiger, the action boosted along by Bernard Hermann's bumptious score. The scene ends with Stewart rushing out the door. Hitchcock ends it with a shot of a lion's head gaping at the slammed door. There is also a running gag, well done, about some visitors waiting around the couple's hotel room in London, waiting for things to be explained.There are two serious issues that are lightly touched on. One is the relationship between Stewart and Day, which is not as rosy as it ought to be, considered as a bourgeois ideal. She's been a stage musical star for some years and is internationally known. And she's given it all up to marry an ordinary guy who happens to be a doc. That's understandable in, say, a nurse or a flight attendant or almost any woman other than an international star with a promising career in her own right. It isn't delved into, but the edginess is noticeable, as it was not in the original version. It reminds me a little of an exchange between Joe Dimaggio and his then-wife Marilyn Monroe, who had just returned from entertaining the troops in Korea. \"Oh, Joe,\" she gushed, \"did you ever see ten thousand people stand up and cheer?\" \"Seventy thousand,\" muttered Joe, former hero of the New York Yankees.The second problem is one of allegiance. Who is of greater social value? One's own young son? Or an unknown ambassador. Do we put ourselves or our loved ones at risk for the sake of national stability? Day is faced with this dilemma in its starkest form at the climax in the Albert Hall. Her solution opts for allegiance to political stability, although her motives are problematic. Does she scream to save the ambassador's life, or does she do so just to release the anxiety that is overwhelming her? (Cf: Alec Guiness falling on the detonator at the end of \"The Bridge on the River Kwai.\") The photography is extremely good, and the settings can be menacing, even on a quiet street in a residential neighborhood of London. It's mid-day, and Stewart is alone and determined, but frightened too. There are footsteps echoing on Gulliver Street from someone, somewhere. Is he being followed? Is his life in danger? And where the hell is everybody who lives on this street? Hitchcock pays such close attention to location details that we can make out the garden wall bonding of the bricks beside him.The director had a rare disagreement with Francois Truffaut while being interviewed for Truffaut's otherwise laudatory book. Truffaut argued that the earlier version of \"The Man Who Knew Too Much\" lacked the depth of the later version. Hitchcock replied, \"It seems to me you want me to make films for the art house audience,\" but finally agreed that the 1930s version was the work of a talented amateur and this version was the work of a professional. No argument there.This is Hitchcock pretty much near his zenith.\n",
      "1\n",
      "I had the misfortune to see this film recently and have to sit through it. A friend purchased it for £1 and insisted we watch it as it sounded good from the story on the back cover.10 minutes into the film it was apparent that the actors were amateurs and this was an extremely low budget effort.The scenes were very poorly acted, the script was stupid and the story contained many scenes which seemed unnecessarily long, just so the movie would be of a reasonable length.For instance when the lead character rents a warehouse, the film spends a ridiculous amount of time on this scene, with meaningless dialogue which serves no real purpose or necessity to the plot.The lead actor is supposedly carrying out revenge on a woman who sleeps with guys to give them HIV, he never once thinks to get tested. Instead he turns into a crazed killer deciding to torture her before killing her and sawing her into pieces.If this sounds good and you are thinking this will have lots of gore, think again. This film has no real gory sequences and is quite tame for this type of film.It does not scare, it does not make you think, it does not offer fast paced fun. It may however put you to sleep, it is certain to bore you to tears, so please save yourself the despair and follow my heading.AVOID THIS FILM 1/2 out of 10 (this does not deserve even 1)The film was 78 minutes but seemed as if it was 2 1/2 hours.\n",
      "0\n"
     ]
    }
   ],
   "source": [
    "import urllib.request\n",
    "import os\n",
    "import tarfile\n",
    "\n",
    "url = \"http://ai.stanford.edu/~amaas/data/sentiment/aclImdb_v1.tar.gz\"\n",
    "filepath = \"aclImdb_v1.tar.gz\"\n",
    "if not os.path.isfile(filepath):\n",
    "    result = urllib.request.urlretrieve(url, filepath)\n",
    "    print('downloaded: ', result)\n",
    "\n",
    "# 解壓縮檔案\n",
    "# Open for reading with gzip compression\n",
    "if not os.path.exists(\"data/aclImdb\"):\n",
    "    tfile = tarfile.open(\"aclImdb_v1.tar.gz\", 'r:gz')\n",
    "    result = tfile.extractall('data/')\n",
    "from tensorflow.keras.preprocessing import sequence\n",
    "from tensorflow.keras.preprocessing.text import Tokenizer\n",
    "\n",
    "# Regular expression operations\n",
    "# Compile a regular expression pattern into a regular expression object\n",
    "import re\n",
    "def rm_tags(text):\n",
    "    re_tag = re.compile(r'<[^>]+>')\n",
    "    return re_tag.sub('', text)\n",
    "\n",
    "import os\n",
    "def read_files(filetype):\n",
    "    path = \"data/aclImdb/\"\n",
    "    file_list = []\n",
    "    \n",
    "    positive_path = path + filetype + \"/pos/\"\n",
    "    for f in os.listdir(positive_path):\n",
    "        file_list += [positive_path + f]\n",
    "    \n",
    "    negative_path = path + filetype + \"/neg/\"\n",
    "    for f in os.listdir(negative_path):\n",
    "        file_list += [negative_path + f]\n",
    "    \n",
    "    print('read ', filetype, ' files: ', len(file_list))\n",
    "    \n",
    "    all_labels = ([1] * 12500 + [0] * 12500)\n",
    "    \n",
    "    all_texts = []\n",
    "    for fi in file_list:\n",
    "        with open(fi, encoding = 'utf8') as file_input:\n",
    "            all_texts += [rm_tags(\" \".join(file_input.readlines()))]\n",
    "    \n",
    "    return all_labels, all_texts\n",
    "\n",
    "y_train, train_text = read_files(\"train\")\n",
    "y_test, test_text = read_files(\"test\")\n",
    "print(train_text[0])\n",
    "print(y_train[0])\n",
    "print(train_text[12501])\n",
    "print(y_train[12501])\n",
    "print(test_text[0])\n",
    "print(y_test[0])\n",
    "print(test_text[12501])\n",
    "print(y_test[12501])\n"
   ]
  },
  {
   "cell_type": "code",
   "execution_count": 3,
   "metadata": {},
   "outputs": [],
   "source": [
    "a=\"\"\n",
    "for i in range(len(train_text)):\n",
    "    for j in range(len(train_text[i])):\n",
    "        _tmp=str(train_text[i][j])\n",
    "        if(_tmp==\" \"):\n",
    "            a+=\" \"\n",
    "        elif(str(train_text[i][j]).isalpha()==True):\n",
    "            a+=train_text[i][j]\n",
    "a=a.lower()\n",
    "a=a.split( )\n",
    "try:\n",
    "    a=a.remove([])\n",
    "except:\n",
    "    pass"
   ]
  },
  {
   "cell_type": "code",
   "execution_count": 4,
   "metadata": {},
   "outputs": [],
   "source": [
    "\n",
    "\n",
    "# Set up command line parameters.\n",
    "parser = argparse.ArgumentParser(description='Fit a GloVe model.')\n",
    "\n",
    "parser.add_argument('--create', '-c', action='store',\n",
    "                    default=True,\n",
    "                    help=('The filename of the corpus to pre-process. '\n",
    "                          'The pre-processed corpus will be saved '\n",
    "                          'and will be ready for training.'))\n",
    "parser.add_argument('-wiki', '-w', action='store_true',\n",
    "                    default=False,\n",
    "                    help=('Assume the corpus input file is in the '\n",
    "                          'Wikipedia dump format'))\n",
    "parser.add_argument('--train', '-t', action='store',\n",
    "                    default=10,\n",
    "                    help=('Train the GloVe model with this number of epochs.'\n",
    "                          'If not supplied, '\n",
    "                          'We\\'ll attempt to load a trained model'))\n",
    "parser.add_argument('--parallelism', '-p', action='store',\n",
    "                    default=1,\n",
    "                    help=('Number of parallel threads to use for training'))\n",
    "parser.add_argument('--query', '-q', action='store',\n",
    "                    default='torch',\n",
    "                    help='Get closes words to this word.')\n",
    "args = parser.parse_args(args=[])"
   ]
  },
  {
   "cell_type": "code",
   "execution_count": 8,
   "metadata": {},
   "outputs": [
    {
     "name": "stdout",
     "output_type": "stream",
     "text": [
      "intriguingly\n"
     ]
    }
   ],
   "source": [
    "print(a[1])"
   ]
  },
  {
   "cell_type": "code",
   "execution_count": 38,
   "metadata": {},
   "outputs": [
    {
     "name": "stdout",
     "output_type": "stream",
     "text": [
      "Training the GloVe model\n",
      "Performing 10 training epochs with 1 threads\n",
      "Epoch 0\n",
      "Epoch 1\n",
      "Epoch 2\n",
      "Epoch 3\n",
      "Epoch 4\n",
      "Epoch 5\n",
      "Epoch 6\n",
      "Epoch 7\n",
      "Epoch 8\n",
      "Epoch 9\n"
     ]
    }
   ],
   "source": [
    "if args.create:\n",
    "    # Build the corpus dictionary and the cooccurrence matrix.\n",
    "    print('Pre-processing corpus')\n",
    "\n",
    "    if args.wiki:\n",
    "        print('Using wikipedia corpus')\n",
    "        get_data = read_wikipedia_corpus\n",
    "    else:\n",
    "        get_data = read_corpus\n",
    "\n",
    "    corpus_model = Corpus()\n",
    "    corpus_model.fit(a, window=10)\n",
    "    corpus_model.save('corpus.model')\n",
    "\n",
    "    print('Dict size: %s' % len(corpus_model.dictionary))\n",
    "    print('Collocations: %s' % corpus_model.matrix.nnz)\n",
    "    \n",
    "if args.train:\n",
    "    # Train the GloVe model and save it to disk.\n",
    "\n",
    "    if not args.create:\n",
    "        # Try to load a corpus from disk.\n",
    "        print('Reading corpus statistics')\n",
    "        corpus_model = Corpus.load('corpus.model')\n",
    "\n",
    "        print('Dict size: %s' % len(corpus_model.dictionary))\n",
    "        print('Collocations: %s' % corpus_model.matrix.nnz)\n",
    "\n",
    "    print('Training the GloVe model')\n",
    "\n",
    "    glove = Glove(no_components=100, learning_rate=0.05)\n",
    "    glove.fit(corpus_model.matrix, epochs=int(args.train),\n",
    "              no_threads=args.parallelism, verbose=True)\n",
    "    glove.add_dictionary(corpus_model.dictionary)\n",
    "\n",
    "    glove.save('glove.model')"
   ]
  },
  {
   "cell_type": "code",
   "execution_count": 39,
   "metadata": {},
   "outputs": [
    {
     "name": "stdout",
     "output_type": "stream",
     "text": [
      "Querying for torch\n",
      "[('shrink', 0.9528697041474521),\n",
      " ('patriotism', 0.9448376324079611),\n",
      " ('condescending', 0.9405317673280993),\n",
      " ('cab', 0.9387947252620756),\n",
      " ('punchline', 0.9356652000446415),\n",
      " ('clinic', 0.9347968630852115),\n",
      " ('slug', 0.9344321221023468),\n",
      " ('secure', 0.9341518217061977),\n",
      " ('candle', 0.9331772051092638)]\n"
     ]
    }
   ],
   "source": [
    "if args.query:\n",
    "    # Finally, query the model for most similar words.\n",
    "    if not args.train:\n",
    "        print('Loading pre-trained GloVe model')\n",
    "        glove = Glove.load('glove.model')\n",
    "\n",
    "    print('Querying for %s' % args.query)\n",
    "    pprint.pprint(glove.most_similar(args.query, number=10))"
   ]
  },
  {
   "cell_type": "code",
   "execution_count": 41,
   "metadata": {},
   "outputs": [
    {
     "name": "stdout",
     "output_type": "stream",
     "text": [
      "Querying for cab\n",
      "[('deer', 0.9861586661269642),\n",
      " ('clinic', 0.9809775364263449),\n",
      " ('pizza', 0.9756774890403555),\n",
      " ('traitor', 0.9749497951264646),\n",
      " ('poet', 0.973449088800856),\n",
      " ('prop', 0.9724361198329827),\n",
      " ('homicidal', 0.9708488614931129),\n",
      " ('garage', 0.9699048848157713),\n",
      " ('chemical', 0.969285674004196)]\n"
     ]
    }
   ],
   "source": [
    "print('Querying for %s' % \"cab\")\n",
    "pprint.pprint(glove.most_similar('cab', number=10))"
   ]
  },
  {
   "cell_type": "code",
   "execution_count": 42,
   "metadata": {},
   "outputs": [
    {
     "name": "stdout",
     "output_type": "stream",
     "text": [
      "Querying for deer\n",
      "[('cab', 0.9861586661269641),\n",
      " ('clinic', 0.9770505381751335),\n",
      " ('sour', 0.976533622697208),\n",
      " ('coke', 0.9737799186775501),\n",
      " ('basketball', 0.9734173713498455),\n",
      " ('saint', 0.9688736915361924),\n",
      " ('pizza', 0.9674406352218079),\n",
      " ('newspaper', 0.9670046977609423),\n",
      " ('meteor', 0.9658782701338349)]\n"
     ]
    }
   ],
   "source": [
    "print('Querying for %s' % \"deer\")\n",
    "pprint.pprint(glove.most_similar('deer', number=10))"
   ]
  },
  {
   "cell_type": "code",
   "execution_count": null,
   "metadata": {},
   "outputs": [],
   "source": []
  }
 ],
 "metadata": {
  "kernelspec": {
   "display_name": "Python 3",
   "language": "python",
   "name": "python3"
  },
  "language_info": {
   "codemirror_mode": {
    "name": "ipython",
    "version": 3
   },
   "file_extension": ".py",
   "mimetype": "text/x-python",
   "name": "python",
   "nbconvert_exporter": "python",
   "pygments_lexer": "ipython3",
   "version": "3.7.3"
  }
 },
 "nbformat": 4,
 "nbformat_minor": 2
}
