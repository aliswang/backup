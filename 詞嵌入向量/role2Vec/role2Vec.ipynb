{
 "cells": [
  {
   "cell_type": "code",
   "execution_count": null,
   "metadata": {},
   "outputs": [],
   "source": [
    "#非自創\n",
    "#來源:https://github.com/benedekrozemberczki/role2vec"
   ]
  },
  {
   "cell_type": "code",
   "execution_count": 1,
   "metadata": {},
   "outputs": [
    {
     "name": "stderr",
     "output_type": "stream",
     "text": [
      " 35%|███▌      | 953/2708 [00:00<00:00, 9525.17it/s]"
     ]
    },
    {
     "name": "stdout",
     "output_type": "stream",
     "text": [
      "+---------------------+----------------------------+\n",
      "|          P          |            1.0             |\n",
      "+=====================+============================+\n",
      "| Q                   | 1                          |\n",
      "+---------------------+----------------------------+\n",
      "| Alpha               | 0.025                      |\n",
      "+---------------------+----------------------------+\n",
      "| Beta                | 0.010                      |\n",
      "+---------------------+----------------------------+\n",
      "| Clusters            | 50                         |\n",
      "+---------------------+----------------------------+\n",
      "| Dimensions          | 128                        |\n",
      "+---------------------+----------------------------+\n",
      "| Down sampling       | 0.001                      |\n",
      "+---------------------+----------------------------+\n",
      "| Epochs              | 10                         |\n",
      "+---------------------+----------------------------+\n",
      "| Factors             | 8                          |\n",
      "+---------------------+----------------------------+\n",
      "| Features            | wl                         |\n",
      "+---------------------+----------------------------+\n",
      "| Graph input         | ./input/cora_edges.csv     |\n",
      "+---------------------+----------------------------+\n",
      "| Graphlet size       | 4                          |\n",
      "+---------------------+----------------------------+\n",
      "| Labeling iterations | 2                          |\n",
      "+---------------------+----------------------------+\n",
      "| Log base            | 1.500                      |\n",
      "+---------------------+----------------------------+\n",
      "| Min alpha           | 0.025                      |\n",
      "+---------------------+----------------------------+\n",
      "| Min count           | 1                          |\n",
      "+---------------------+----------------------------+\n",
      "| Motif compression   | string                     |\n",
      "+---------------------+----------------------------+\n",
      "| Output              | ./output/cora_role2vec.csv |\n",
      "+---------------------+----------------------------+\n",
      "| Quantiles           | 5                          |\n",
      "+---------------------+----------------------------+\n",
      "| Sampling            | first                      |\n",
      "+---------------------+----------------------------+\n",
      "| Seed                | 42                         |\n",
      "+---------------------+----------------------------+\n",
      "| Walk length         | 80                         |\n",
      "+---------------------+----------------------------+\n",
      "| Walk number         | 10                         |\n",
      "+---------------------+----------------------------+\n",
      "| Window size         | 5                          |\n",
      "+---------------------+----------------------------+\n",
      "| Workers             | 4                          |\n",
      "+---------------------+----------------------------+\n",
      "\n",
      "Random walk round: 1/10.\n",
      "\n"
     ]
    },
    {
     "name": "stderr",
     "output_type": "stream",
     "text": [
      "100%|██████████| 2708/2708 [00:00<00:00, 9461.71it/s]\n",
      " 35%|███▍      | 945/2708 [00:00<00:00, 9446.59it/s]"
     ]
    },
    {
     "name": "stdout",
     "output_type": "stream",
     "text": [
      "\n",
      "Random walk round: 2/10.\n",
      "\n"
     ]
    },
    {
     "name": "stderr",
     "output_type": "stream",
     "text": [
      "100%|██████████| 2708/2708 [00:00<00:00, 9419.63it/s]\n",
      " 35%|███▍      | 939/2708 [00:00<00:00, 9386.65it/s]"
     ]
    },
    {
     "name": "stdout",
     "output_type": "stream",
     "text": [
      "\n",
      "Random walk round: 3/10.\n",
      "\n"
     ]
    },
    {
     "name": "stderr",
     "output_type": "stream",
     "text": [
      "100%|██████████| 2708/2708 [00:00<00:00, 9302.34it/s]\n",
      " 35%|███▍      | 946/2708 [00:00<00:00, 9453.52it/s]"
     ]
    },
    {
     "name": "stdout",
     "output_type": "stream",
     "text": [
      "\n",
      "Random walk round: 4/10.\n",
      "\n"
     ]
    },
    {
     "name": "stderr",
     "output_type": "stream",
     "text": [
      "100%|██████████| 2708/2708 [00:00<00:00, 9464.74it/s]\n",
      " 70%|██████▉   | 1884/2708 [00:00<00:00, 9410.26it/s]"
     ]
    },
    {
     "name": "stdout",
     "output_type": "stream",
     "text": [
      "\n",
      "Random walk round: 5/10.\n",
      "\n"
     ]
    },
    {
     "name": "stderr",
     "output_type": "stream",
     "text": [
      "100%|██████████| 2708/2708 [00:00<00:00, 9420.32it/s]\n",
      " 35%|███▍      | 945/2708 [00:00<00:00, 9449.56it/s]"
     ]
    },
    {
     "name": "stdout",
     "output_type": "stream",
     "text": [
      "\n",
      "Random walk round: 6/10.\n",
      "\n"
     ]
    },
    {
     "name": "stderr",
     "output_type": "stream",
     "text": [
      "100%|██████████| 2708/2708 [00:00<00:00, 9283.51it/s]\n",
      " 35%|███▍      | 943/2708 [00:00<00:00, 9429.96it/s]"
     ]
    },
    {
     "name": "stdout",
     "output_type": "stream",
     "text": [
      "\n",
      "Random walk round: 7/10.\n",
      "\n"
     ]
    },
    {
     "name": "stderr",
     "output_type": "stream",
     "text": [
      "100%|██████████| 2708/2708 [00:00<00:00, 9411.93it/s]\n",
      " 35%|███▍      | 938/2708 [00:00<00:00, 9379.45it/s]"
     ]
    },
    {
     "name": "stdout",
     "output_type": "stream",
     "text": [
      "\n",
      "Random walk round: 8/10.\n",
      "\n"
     ]
    },
    {
     "name": "stderr",
     "output_type": "stream",
     "text": [
      "100%|██████████| 2708/2708 [00:00<00:00, 9402.39it/s]\n",
      " 69%|██████▉   | 1882/2708 [00:00<00:00, 9417.18it/s]"
     ]
    },
    {
     "name": "stdout",
     "output_type": "stream",
     "text": [
      "\n",
      "Random walk round: 9/10.\n",
      "\n"
     ]
    },
    {
     "name": "stderr",
     "output_type": "stream",
     "text": [
      "100%|██████████| 2708/2708 [00:00<00:00, 9317.47it/s]\n",
      " 70%|██████▉   | 1887/2708 [00:00<00:00, 9428.18it/s]"
     ]
    },
    {
     "name": "stdout",
     "output_type": "stream",
     "text": [
      "\n",
      "Random walk round: 10/10.\n",
      "\n"
     ]
    },
    {
     "name": "stderr",
     "output_type": "stream",
     "text": [
      "100%|██████████| 2708/2708 [00:00<00:00, 9400.75it/s]\n"
     ]
    }
   ],
   "source": [
    "\"\"\"Parsing the parameters.\"\"\"\n",
    "import main\n",
    "import argparse\n",
    "\n",
    "def parameter_parser():\n",
    "    \"\"\"\n",
    "    A method to parse up command line parameters.\n",
    "    The default hyperparameters give a good quality representation without grid search.\n",
    "    Representations are sorted by ID.\n",
    "    \"\"\"\n",
    "    parser=argparse.ArgumentParser(description=\"Run Role2Vec.\")\n",
    "\n",
    "    parser.add_argument(\"--graph-input\",\n",
    "                        nargs=\"?\",\n",
    "                        default=\"./input/cora_edges.csv\",\n",
    "                        help=\"Input graph path -- edge list csv.\")\n",
    "\n",
    "    parser.add_argument(\"--output\",\n",
    "                        nargs=\"?\",\n",
    "                        default=\"./cora_role2vec.csv\",\n",
    "                        help=\"Embeddings path.\")\n",
    "\n",
    "    parser.add_argument(\"--window-size\",\n",
    "                        type=int,\n",
    "                        default=5,\n",
    "                        help=\"Window size for skip-gram. Default is 5.\")\n",
    "\n",
    "    parser.add_argument(\"--walk-number\",\n",
    "                        type=int,\n",
    "                        default=10,\n",
    "                        help=\"Number of random walks. Default is 10.\")\n",
    "\n",
    "    parser.add_argument(\"--walk-length\",\n",
    "                        type=int,\n",
    "                        default=80,\n",
    "                        help=\"Walk length. Default is 80.\")\n",
    "\n",
    "    parser.add_argument(\"--sampling\",\n",
    "                        nargs=\"?\",\n",
    "                        default=\"first\",\n",
    "                        help=\"Random walk order.\")\n",
    "\n",
    "    parser.add_argument(\"--P\",\n",
    "                        type=float,\n",
    "                        default=1.00,\n",
    "                        help=\"Return parameter. Default is 1.0.\")\n",
    "\n",
    "    parser.add_argument(\"--Q\",\n",
    "                        type=float,\n",
    "                        default=1.00,\n",
    "                        help=\"Inout parameter. Default is 1.0.\")\n",
    "\n",
    "    parser.add_argument(\"--dimensions\",\n",
    "                        type=int,\n",
    "                        default=128,\n",
    "                        help=\"Number of dimensions. Default is 128.\")\n",
    "\n",
    "    parser.add_argument(\"--down-sampling\",\n",
    "                        type=float,\n",
    "                        default=0.001,\n",
    "                        help=\"Down sampling frequency. Default is 0.001.\")\n",
    "\n",
    "    parser.add_argument(\"--alpha\",\n",
    "                        type=float,\n",
    "                        default=0.025,\n",
    "                        help=\"Initial learning rate. Default is 0.025.\")\n",
    "\n",
    "    parser.add_argument(\"--min-alpha\",\n",
    "                        type=float,\n",
    "                        default=0.025,\n",
    "                        help=\"Final learning rate. Default is 0.025.\")\n",
    "\n",
    "    parser.add_argument(\"--min-count\",\n",
    "                        type=int,\n",
    "                        default=1,\n",
    "                        help=\"Minimal feature count. Default is 1.\")\n",
    "\n",
    "    parser.add_argument(\"--workers\",\n",
    "                        type=int,\n",
    "                        default=4,\n",
    "                        help=\"Number of cores. Default is 4.\")\n",
    "\n",
    "    parser.add_argument(\"--epochs\",\n",
    "                        type=int,\n",
    "                        default=10,\n",
    "                        help=\"Number of epochs. Default is 10.\")\n",
    "\n",
    "    parser.add_argument(\"--features\",\n",
    "                        nargs=\"?\",\n",
    "                        default=\"wl\",\n",
    "                        help=\"Feature extraction mechanism. Default is wl.\")\n",
    "\n",
    "    parser.add_argument(\"--labeling-iterations\",\n",
    "                        type=int,\n",
    "                        default=2,\n",
    "                        help=\"Number of WL labeling iterations. Default is 2.\")\n",
    "\n",
    "    parser.add_argument(\"--log-base\",\n",
    "                        type=int,\n",
    "                        default=1.5,\n",
    "                        help=\"Log base for label creation. Default is 1.5.\")\n",
    "\n",
    "    parser.add_argument(\"--graphlet-size\",\n",
    "                        type=int,\n",
    "                        default=4,\n",
    "                        help=\"Maximal graphlet size. Default is 4.\")\n",
    "\n",
    "    parser.add_argument(\"--quantiles\",\n",
    "                        type=int,\n",
    "                        default=5,\n",
    "                        help=\"Number of quantiles for binning. Default is 5.\")\n",
    "\n",
    "    parser.add_argument(\"--motif-compression\",\n",
    "                        nargs=\"?\",\n",
    "                        default=\"string\",\n",
    "                        help=\"Motif compression procedure -- string or factorization.\")\n",
    "\n",
    "    parser.add_argument(\"--seed\",\n",
    "                        type=int,\n",
    "                        default=42,\n",
    "                        help=\"Sklearn random seed. Default is 42.\")\n",
    "\n",
    "    parser.add_argument(\"--factors\",\n",
    "                        type=int,\n",
    "                        default=8,\n",
    "                        help=\"Number of factors for motif compression. Default is 8.\")\n",
    "\n",
    "    parser.add_argument(\"--clusters\",\n",
    "                        type=int,\n",
    "                        default=50,\n",
    "                        help=\"Number of motif based labels. Default is 50.\")\n",
    "\n",
    "    parser.add_argument(\"--beta\",\n",
    "                        type=float,\n",
    "                        default=0.01,\n",
    "                        help=\"Motif compression factorization regularizer. Default is 0.01.\")\n",
    "\n",
    "    return parser.parse_args()\n",
    "\n",
    "main.main(parameter_parser())"
   ]
  },
  {
   "cell_type": "code",
   "execution_count": null,
   "metadata": {},
   "outputs": [],
   "source": []
  }
 ],
 "metadata": {
  "kernelspec": {
   "display_name": "Python 3",
   "language": "python",
   "name": "python3"
  },
  "language_info": {
   "codemirror_mode": {
    "name": "ipython",
    "version": 3
   },
   "file_extension": ".py",
   "mimetype": "text/x-python",
   "name": "python",
   "nbconvert_exporter": "python",
   "pygments_lexer": "ipython3",
   "version": "3.7.3"
  }
 },
 "nbformat": 4,
 "nbformat_minor": 4
}
