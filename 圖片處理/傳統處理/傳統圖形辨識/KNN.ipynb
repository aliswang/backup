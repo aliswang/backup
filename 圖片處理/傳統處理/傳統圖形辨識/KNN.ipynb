{
 "cells": [
  {
   "cell_type": "code",
   "execution_count": 1,
   "metadata": {},
   "outputs": [],
   "source": [
    "import cv2\n",
    "import numpy as np\n",
    "import os"
   ]
  },
  {
   "cell_type": "code",
   "execution_count": 2,
   "metadata": {
    "scrolled": false
   },
   "outputs": [],
   "source": [
    "tr=[]\n",
    "te=[]\n",
    "bn=[]\n",
    "eo=[]\n",
    "ly=[]\n",
    "for root, dirs, files in os.walk(\"data/band_neutrophile\"):\n",
    "                                #抓取../band_neutrophile_2/資料夾下的所有檔案\n",
    "    for name in files:\n",
    "    #迴圈讀取檔名\n",
    "        img = cv2.imread(os.path.join(root, name))\n",
    "        #使用opencv 讀取檔案(os.path.join(root, name)為路徑+檔名)\n",
    "        img2 = cv2.resize(img, (150, 150))\n",
    "        #大小縮放統一成150*150\n",
    "        u = img2.reshape(-1, 67500)\n",
    "        #壓平成一維陣列\n",
    "        bn.extend(u)\n",
    "        #全部塞進list的a中\n",
    "\n",
    "#輸出檢查格式\n",
    "bn_f = np.array(bn)#list轉為array\n",
    "\n",
    "#抽取50個\n",
    "tr = bn_f[:50]\n",
    "te = bn_f[50:]\n",
    "\n",
    "for root, dirs, files in os.walk(\"data/eosinophile\"):\n",
    "    for name in files:\n",
    "    #迴圈讀取檔名\n",
    "        img = cv2.imread(os.path.join(root, name))\n",
    "        #使用opencv 讀取檔案(os.path.join(root, name)為路徑+檔名)\n",
    "        img2 = cv2.resize(img, (150, 150))\n",
    "        #大小縮放統一成150*150\n",
    "        u = img2.reshape(-1, 67500)\n",
    "        #壓平成一維陣列\n",
    "        eo.extend(u)\n",
    "        #全部塞進list的a中\n",
    "\n",
    "#輸出檢查格式\n",
    "eo_f = np.array(eo)#list轉為array\n",
    "\n",
    "#抽取50個\n",
    "tr = np.append(tr,eo_f[:50], axis=0)\n",
    "te = np.append(te,eo_f[50:], axis=0)\n",
    "\n",
    "for root, dirs, files in os.walk(\"data/lymphocyte\"):\n",
    "    for name in files:\n",
    "    #迴圈讀取檔名\n",
    "        img = cv2.imread(os.path.join(root, name))\n",
    "        #使用opencv 讀取檔案(os.path.join(root, name)為路徑+檔名)\n",
    "        img2 = cv2.resize(img, (150, 150))\n",
    "        #大小縮放統一成150*150\n",
    "        u = img2.reshape(-1, 67500)\n",
    "        #壓平成一維陣列\n",
    "        ly.extend(u)\n",
    "        #全部塞進list的a中\n",
    "\n",
    "#輸出檢查格式\n",
    "ly_f = np.array(ly)#list轉為array\n",
    "\n",
    "#抽取50個\n",
    "tr = np.append(tr,ly_f[:50], axis=0)\n",
    "te = np.append(te,ly_f[50:], axis=0)\n",
    "\n",
    "#0=bn 1=eo 2=ly\n",
    "#答案產生\n",
    "ans = []\n",
    "a = np.full((50, 1), 0)\n",
    "b = np.full((50, 1), 1)\n",
    "c = np.full((50, 1), 2)\n",
    "ans.extend(a)\n",
    "ans.extend(b)\n",
    "ans.extend(c)\n",
    "ans = np.array(ans)\n",
    "ans_tr = ans\n",
    "ans_te = ans\n",
    "\n",
    "#亂數處理\n",
    "for i in range(len(tr)):\n",
    "    c1 = np.random.randint(150, size=1)\n",
    "    c2 = np.random.randint(150, size=1)\n",
    "    tr[c1], tr[c2] = tr[c2], tr[c1]\n",
    "    ans_tr[c1], ans_tr[c2] = ans_tr[c2], ans_tr[c1]\n",
    "\n",
    "for i in range(len(te)):\n",
    "    c1 = np.random.randint(150, size=1)\n",
    "    c2 = np.random.randint(150, size=1)\n",
    "    te[c1], te[c2] = te[c2], te[c1]\n",
    "    ans_te[c1], ans_te[c2] = ans_te[c2], ans_te[c1]\n",
    "\n",
    "#格式處理\n",
    "tr=tr / 255\n",
    "te=te / 255"
   ]
  },
  {
   "cell_type": "code",
   "execution_count": 3,
   "metadata": {},
   "outputs": [
    {
     "name": "stdout",
     "output_type": "stream",
     "text": [
      "34.0\n"
     ]
    }
   ],
   "source": [
    "k = np.arange(10)\n",
    "\n",
    "\n",
    "tr = np.asarray(tr, np.float32)\n",
    "te = np.asarray(te, np.float32)\n",
    "ans_tr = np.asarray(ans_tr, np.float32)\n",
    "ans_te = np.asarray(ans_te, np.float32)\n",
    "\n",
    "\n",
    "knn = cv2.ml.KNearest_create()\n",
    "knn.train(tr, cv2.ml.ROW_SAMPLE, ans_tr)\n",
    "ret, result, neighbours, dist = knn.findNearest(te, k=5)\n",
    "\n",
    "matches = result == ans_te\n",
    "correct = np.count_nonzero(matches)\n",
    "accuracy = correct*100.0/result.size\n",
    "print(accuracy)"
   ]
  },
  {
   "cell_type": "code",
   "execution_count": null,
   "metadata": {},
   "outputs": [],
   "source": []
  }
 ],
 "metadata": {
  "kernelspec": {
   "display_name": "Python 3",
   "language": "python",
   "name": "python3"
  },
  "language_info": {
   "codemirror_mode": {
    "name": "ipython",
    "version": 3
   },
   "file_extension": ".py",
   "mimetype": "text/x-python",
   "name": "python",
   "nbconvert_exporter": "python",
   "pygments_lexer": "ipython3",
   "version": "3.7.3"
  }
 },
 "nbformat": 4,
 "nbformat_minor": 2
}
