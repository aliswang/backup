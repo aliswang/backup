{
 "cells": [
  {
   "cell_type": "code",
   "execution_count": 1,
   "metadata": {},
   "outputs": [
    {
     "data": {
      "text/plain": [
       "((10723, 5245), (10723, 2622))"
      ]
     },
     "execution_count": 1,
     "metadata": {},
     "output_type": "execute_result"
    }
   ],
   "source": [
    "import tensorflow as tf\n",
    "import numpy as np\n",
    "import time\n",
    "from IPython.display import clear_output\n",
    "data=np.load('origin_data.npy')\n",
    "noise_dim=data.shape[-1]\n",
    "BUFFER_SIZE = 60000\n",
    "BATCH_SIZE = 512\n",
    "noises=np.random.normal(0,0.1,size=([data.shape[0], int(data.shape[-1]/2)]))\n",
    "data.shape ,noises.shape"
   ]
  },
  {
   "cell_type": "code",
   "execution_count": 2,
   "metadata": {},
   "outputs": [],
   "source": [
    "class CenterAround(tf.keras.constraints.Constraint):\n",
    "    def __init__(self, ref_value):\n",
    "        self.ref_value = ref_value\n",
    "\n",
    "    def __call__(self, w):\n",
    "        mean = tf.reduce_mean(w)\n",
    "        return w - mean + self.ref_value\n",
    "\n",
    "    def get_config(self):\n",
    "        return {'ref_value': self.ref_value}"
   ]
  },
  {
   "cell_type": "code",
   "execution_count": 3,
   "metadata": {},
   "outputs": [
    {
     "name": "stdout",
     "output_type": "stream",
     "text": [
      "tf.Tensor([[0.41601834 0.51299185 0.34788695 ... 0.5741479  0.43550146 0.5606325 ]], shape=(1, 5245), dtype=float32)\n"
     ]
    }
   ],
   "source": [
    "dense_dim = data.shape[-1]\n",
    "def b_VAE():\n",
    "    inp = tf.keras.Input((data.shape[-1],))\n",
    "    noise_inp = tf.keras.Input((int(data.shape[-1]/2),))\n",
    "    \n",
    "    x1 = tf.keras.layers.Dense(dense_dim, name=\"layer11\")(inp)\n",
    "    x1 = tf.keras.layers.Dense(dense_dim, name=\"layer12\")(x1)\n",
    "    x1 = tf.keras.layers.Dense(dense_dim, name=\"layer13\")(x1)\n",
    "    x = x1\n",
    "    \n",
    "    x1 = tf.keras.layers.Dense(dense_dim, name=\"layer21\")(x)\n",
    "    x1 = tf.keras.layers.Dense(dense_dim/2, name=\"layer22\")(x1)\n",
    "    x1 = tf.keras.layers.Dense(dense_dim/2, name=\"layer23\")(x1)\n",
    "    x = x1\n",
    "    \n",
    "    \n",
    "    xdot = tf.keras.layers.Dense(dense_dim, name=\"layerd11\")(inp)\n",
    "    xdot = tf.keras.layers.Dense(dense_dim, name=\"layerd12\")(xdot)\n",
    "    xdot = tf.keras.layers.Dense(dense_dim/2, name=\"layerd13\")(xdot)\n",
    "    xdot = tf.keras.layers.Dense(dense_dim/2, name=\"layerd14\")(xdot)\n",
    "    xdot= xdot \n",
    "    \n",
    "    x = xdot*noise_inp + x\n",
    "    xo = tf.nn.tanh(x)\n",
    "    \n",
    "    x1 = tf.keras.layers.Dense(dense_dim/2, name=\"layert11\")(xo)\n",
    "    x1 = tf.keras.layers.Dense(dense_dim/2, name=\"layert12\")(x1)\n",
    "    x1 = tf.keras.layers.Dense(dense_dim, name=\"layert13\")(x1)\n",
    "    x = x1 \n",
    "    \n",
    "    x1 = tf.keras.layers.Dense(dense_dim, name=\"layert21\")(x)\n",
    "    x1 = tf.keras.layers.Dense(dense_dim, name=\"layert22\")(x1)\n",
    "    x1 = tf.keras.layers.Dense(dense_dim, name=\"layert23\")(x1)\n",
    "    x = x1 \n",
    "    x = tf.nn.sigmoid(x)\n",
    "    \n",
    "    return tf.keras.Model(inputs=[inp,noise_inp],outputs=x)\n",
    "VAE=b_VAE()\n",
    "data_test = tf.random.normal([1, data.shape[-1]])\n",
    "noise = tf.random.normal([1, int(data.shape[-1]/2)])\n",
    "print(VAE([data_test,noise], training=False))"
   ]
  },
  {
   "cell_type": "code",
   "execution_count": 6,
   "metadata": {
    "scrolled": true
   },
   "outputs": [
    {
     "name": "stdout",
     "output_type": "stream",
     "text": [
      "Epoch 1/3000\n",
      "4/4 [==============================] - 6s 1s/step - loss: 123.1423\n",
      "Epoch 2/3000\n",
      "4/4 [==============================] - 6s 1s/step - loss: 122.7153\n",
      "Epoch 3/3000\n",
      "4/4 [==============================] - 6s 1s/step - loss: 121.9056\n",
      "Epoch 4/3000\n",
      "4/4 [==============================] - 6s 1s/step - loss: 120.2823\n",
      "Epoch 5/3000\n",
      "4/4 [==============================] - 6s 1s/step - loss: 117.9949\n",
      "Epoch 6/3000\n",
      "4/4 [==============================] - 6s 1s/step - loss: 115.4580\n",
      "Epoch 7/3000\n",
      "4/4 [==============================] - 6s 1s/step - loss: 111.4143\n",
      "Epoch 8/3000\n",
      "4/4 [==============================] - 6s 1s/step - loss: 104.8348\n",
      "Epoch 9/3000\n",
      "4/4 [==============================] - 6s 1s/step - loss: 102.3876\n",
      "Epoch 10/3000\n",
      "4/4 [==============================] - 6s 1s/step - loss: 101.5629\n",
      "Epoch 11/3000\n",
      "4/4 [==============================] - 6s 1s/step - loss: 101.0799\n",
      "Epoch 12/3000\n",
      "4/4 [==============================] - 6s 1s/step - loss: 100.5549\n",
      "Epoch 13/3000\n",
      "4/4 [==============================] - 6s 1s/step - loss: 100.2137\n",
      "Epoch 14/3000\n",
      "4/4 [==============================] - 6s 1s/step - loss: 99.9057\n",
      "Epoch 15/3000\n",
      "4/4 [==============================] - 6s 1s/step - loss: 99.5618\n",
      "Epoch 16/3000\n",
      "4/4 [==============================] - 6s 1s/step - loss: 99.3512\n",
      "Epoch 17/3000\n",
      "4/4 [==============================] - 6s 1s/step - loss: 99.0028\n",
      "Epoch 18/3000\n",
      "4/4 [==============================] - 6s 1s/step - loss: 98.7687\n",
      "Epoch 19/3000\n",
      "4/4 [==============================] - 6s 1s/step - loss: 98.4958\n",
      "Epoch 20/3000\n",
      "4/4 [==============================] - 6s 1s/step - loss: 98.3270\n",
      "Epoch 21/3000\n",
      "4/4 [==============================] - 6s 1s/step - loss: 98.2151\n",
      "Epoch 22/3000\n",
      "4/4 [==============================] - 6s 1s/step - loss: 97.8446\n",
      "Epoch 23/3000\n",
      "4/4 [==============================] - 6s 1s/step - loss: 97.7555\n",
      "Epoch 24/3000\n",
      "4/4 [==============================] - 6s 1s/step - loss: 97.5984\n",
      "Epoch 25/3000\n",
      "4/4 [==============================] - 6s 1s/step - loss: 97.4012\n",
      "Epoch 26/3000\n",
      "4/4 [==============================] - 6s 1s/step - loss: 97.2297\n",
      "Epoch 27/3000\n",
      "4/4 [==============================] - 6s 1s/step - loss: 97.1434\n",
      "Epoch 28/3000\n",
      "4/4 [==============================] - 6s 1s/step - loss: 96.9538\n",
      "Epoch 29/3000\n",
      "4/4 [==============================] - 6s 1s/step - loss: 96.8149\n",
      "Epoch 30/3000\n",
      "4/4 [==============================] - 6s 1s/step - loss: 96.7357\n",
      "Epoch 31/3000\n",
      "4/4 [==============================] - 6s 1s/step - loss: 96.6199\n",
      "Epoch 32/3000\n",
      "4/4 [==============================] - 6s 1s/step - loss: 96.4602\n",
      "Epoch 33/3000\n",
      "4/4 [==============================] - 6s 1s/step - loss: 96.4847\n",
      "Epoch 34/3000\n",
      "4/4 [==============================] - 6s 1s/step - loss: 96.4773\n",
      "Epoch 35/3000\n"
     ]
    },
    {
     "ename": "KeyboardInterrupt",
     "evalue": "",
     "output_type": "error",
     "traceback": [
      "\u001b[0;31m---------------------------------------------------------------------------\u001b[0m",
      "\u001b[0;31mKeyboardInterrupt\u001b[0m                         Traceback (most recent call last)",
      "\u001b[0;32m<ipython-input-6-03a497a9adc1>\u001b[0m in \u001b[0;36m<module>\u001b[0;34m\u001b[0m\n\u001b[1;32m      2\u001b[0m VAE.compile(optimizer=tf.keras.optimizers.SGD(learning_rate=1e-2),\\\n\u001b[1;32m      3\u001b[0m                      loss=tf.keras.losses.CategoricalCrossentropy())\n\u001b[0;32m----> 4\u001b[0;31m \u001b[0mVAE\u001b[0m\u001b[0;34m.\u001b[0m\u001b[0mfit\u001b[0m\u001b[0;34m(\u001b[0m\u001b[0mx\u001b[0m\u001b[0;34m=\u001b[0m \u001b[0;34m[\u001b[0m\u001b[0mdata\u001b[0m\u001b[0;34m,\u001b[0m\u001b[0mnoises\u001b[0m\u001b[0;34m]\u001b[0m \u001b[0;34m,\u001b[0m\u001b[0my\u001b[0m\u001b[0;34m=\u001b[0m\u001b[0mdata\u001b[0m \u001b[0;34m,\u001b[0m\u001b[0mbatch_size\u001b[0m\u001b[0;34m=\u001b[0m\u001b[0mint\u001b[0m\u001b[0;34m(\u001b[0m\u001b[0mdata\u001b[0m\u001b[0;34m.\u001b[0m\u001b[0mshape\u001b[0m\u001b[0;34m[\u001b[0m\u001b[0;36m0\u001b[0m\u001b[0;34m]\u001b[0m\u001b[0;34m/\u001b[0m\u001b[0;36m4\u001b[0m\u001b[0;34m)\u001b[0m\u001b[0;34m+\u001b[0m\u001b[0;36m1\u001b[0m \u001b[0;34m,\u001b[0m\u001b[0mepochs\u001b[0m\u001b[0;34m=\u001b[0m\u001b[0;36m3000\u001b[0m \u001b[0;34m,\u001b[0m\u001b[0mverbose\u001b[0m\u001b[0;34m=\u001b[0m\u001b[0;36m1\u001b[0m\u001b[0;34m)\u001b[0m\u001b[0;34m\u001b[0m\u001b[0m\n\u001b[0m",
      "\u001b[0;32m~/tf_gpu/tf_gpu_env/lib/python3.5/site-packages/tensorflow/python/keras/engine/training.py\u001b[0m in \u001b[0;36m_method_wrapper\u001b[0;34m(self, *args, **kwargs)\u001b[0m\n\u001b[1;32m     64\u001b[0m   \u001b[0;32mdef\u001b[0m \u001b[0m_method_wrapper\u001b[0m\u001b[0;34m(\u001b[0m\u001b[0mself\u001b[0m\u001b[0;34m,\u001b[0m \u001b[0;34m*\u001b[0m\u001b[0margs\u001b[0m\u001b[0;34m,\u001b[0m \u001b[0;34m**\u001b[0m\u001b[0mkwargs\u001b[0m\u001b[0;34m)\u001b[0m\u001b[0;34m:\u001b[0m\u001b[0;34m\u001b[0m\u001b[0m\n\u001b[1;32m     65\u001b[0m     \u001b[0;32mif\u001b[0m \u001b[0;32mnot\u001b[0m \u001b[0mself\u001b[0m\u001b[0;34m.\u001b[0m\u001b[0m_in_multi_worker_mode\u001b[0m\u001b[0;34m(\u001b[0m\u001b[0;34m)\u001b[0m\u001b[0;34m:\u001b[0m  \u001b[0;31m# pylint: disable=protected-access\u001b[0m\u001b[0;34m\u001b[0m\u001b[0m\n\u001b[0;32m---> 66\u001b[0;31m       \u001b[0;32mreturn\u001b[0m \u001b[0mmethod\u001b[0m\u001b[0;34m(\u001b[0m\u001b[0mself\u001b[0m\u001b[0;34m,\u001b[0m \u001b[0;34m*\u001b[0m\u001b[0margs\u001b[0m\u001b[0;34m,\u001b[0m \u001b[0;34m**\u001b[0m\u001b[0mkwargs\u001b[0m\u001b[0;34m)\u001b[0m\u001b[0;34m\u001b[0m\u001b[0m\n\u001b[0m\u001b[1;32m     67\u001b[0m \u001b[0;34m\u001b[0m\u001b[0m\n\u001b[1;32m     68\u001b[0m     \u001b[0;31m# Running inside `run_distribute_coordinator` already.\u001b[0m\u001b[0;34m\u001b[0m\u001b[0;34m\u001b[0m\u001b[0m\n",
      "\u001b[0;32m~/tf_gpu/tf_gpu_env/lib/python3.5/site-packages/tensorflow/python/keras/engine/training.py\u001b[0m in \u001b[0;36mfit\u001b[0;34m(self, x, y, batch_size, epochs, verbose, callbacks, validation_split, validation_data, shuffle, class_weight, sample_weight, initial_epoch, steps_per_epoch, validation_steps, validation_batch_size, validation_freq, max_queue_size, workers, use_multiprocessing)\u001b[0m\n\u001b[1;32m    853\u001b[0m                 \u001b[0mcontext\u001b[0m\u001b[0;34m.\u001b[0m\u001b[0masync_wait\u001b[0m\u001b[0;34m(\u001b[0m\u001b[0;34m)\u001b[0m\u001b[0;34m\u001b[0m\u001b[0m\n\u001b[1;32m    854\u001b[0m               \u001b[0mlogs\u001b[0m \u001b[0;34m=\u001b[0m \u001b[0mtmp_logs\u001b[0m  \u001b[0;31m# No error, now safe to assign to logs.\u001b[0m\u001b[0;34m\u001b[0m\u001b[0m\n\u001b[0;32m--> 855\u001b[0;31m               \u001b[0mcallbacks\u001b[0m\u001b[0;34m.\u001b[0m\u001b[0mon_train_batch_end\u001b[0m\u001b[0;34m(\u001b[0m\u001b[0mstep\u001b[0m\u001b[0;34m,\u001b[0m \u001b[0mlogs\u001b[0m\u001b[0;34m)\u001b[0m\u001b[0;34m\u001b[0m\u001b[0m\n\u001b[0m\u001b[1;32m    856\u001b[0m         \u001b[0mepoch_logs\u001b[0m \u001b[0;34m=\u001b[0m \u001b[0mcopy\u001b[0m\u001b[0;34m.\u001b[0m\u001b[0mcopy\u001b[0m\u001b[0;34m(\u001b[0m\u001b[0mlogs\u001b[0m\u001b[0;34m)\u001b[0m\u001b[0;34m\u001b[0m\u001b[0m\n\u001b[1;32m    857\u001b[0m \u001b[0;34m\u001b[0m\u001b[0m\n",
      "\u001b[0;32m~/tf_gpu/tf_gpu_env/lib/python3.5/site-packages/tensorflow/python/keras/callbacks.py\u001b[0m in \u001b[0;36mon_train_batch_end\u001b[0;34m(self, batch, logs)\u001b[0m\n\u001b[1;32m    387\u001b[0m     \"\"\"\n\u001b[1;32m    388\u001b[0m     \u001b[0;32mif\u001b[0m \u001b[0mself\u001b[0m\u001b[0;34m.\u001b[0m\u001b[0m_should_call_train_batch_hooks\u001b[0m\u001b[0;34m:\u001b[0m\u001b[0;34m\u001b[0m\u001b[0m\n\u001b[0;32m--> 389\u001b[0;31m       \u001b[0mlogs\u001b[0m \u001b[0;34m=\u001b[0m \u001b[0mself\u001b[0m\u001b[0;34m.\u001b[0m\u001b[0m_process_logs\u001b[0m\u001b[0;34m(\u001b[0m\u001b[0mlogs\u001b[0m\u001b[0;34m)\u001b[0m\u001b[0;34m\u001b[0m\u001b[0m\n\u001b[0m\u001b[1;32m    390\u001b[0m       \u001b[0mself\u001b[0m\u001b[0;34m.\u001b[0m\u001b[0m_call_batch_hook\u001b[0m\u001b[0;34m(\u001b[0m\u001b[0mModeKeys\u001b[0m\u001b[0;34m.\u001b[0m\u001b[0mTRAIN\u001b[0m\u001b[0;34m,\u001b[0m \u001b[0;34m'end'\u001b[0m\u001b[0;34m,\u001b[0m \u001b[0mbatch\u001b[0m\u001b[0;34m,\u001b[0m \u001b[0mlogs\u001b[0m\u001b[0;34m=\u001b[0m\u001b[0mlogs\u001b[0m\u001b[0;34m)\u001b[0m\u001b[0;34m\u001b[0m\u001b[0m\n\u001b[1;32m    391\u001b[0m \u001b[0;34m\u001b[0m\u001b[0m\n",
      "\u001b[0;32m~/tf_gpu/tf_gpu_env/lib/python3.5/site-packages/tensorflow/python/keras/callbacks.py\u001b[0m in \u001b[0;36m_process_logs\u001b[0;34m(self, logs)\u001b[0m\n\u001b[1;32m    263\u001b[0m     \u001b[0;34m\"\"\"Turns tensors into numpy arrays or Python scalars.\"\"\"\u001b[0m\u001b[0;34m\u001b[0m\u001b[0m\n\u001b[1;32m    264\u001b[0m     \u001b[0;32mif\u001b[0m \u001b[0mlogs\u001b[0m\u001b[0;34m:\u001b[0m\u001b[0;34m\u001b[0m\u001b[0m\n\u001b[0;32m--> 265\u001b[0;31m       \u001b[0;32mreturn\u001b[0m \u001b[0mtf_utils\u001b[0m\u001b[0;34m.\u001b[0m\u001b[0mto_numpy_or_python_type\u001b[0m\u001b[0;34m(\u001b[0m\u001b[0mlogs\u001b[0m\u001b[0;34m)\u001b[0m\u001b[0;34m\u001b[0m\u001b[0m\n\u001b[0m\u001b[1;32m    266\u001b[0m     \u001b[0;32mreturn\u001b[0m \u001b[0;34m{\u001b[0m\u001b[0;34m}\u001b[0m\u001b[0;34m\u001b[0m\u001b[0m\n\u001b[1;32m    267\u001b[0m \u001b[0;34m\u001b[0m\u001b[0m\n",
      "\u001b[0;32m~/tf_gpu/tf_gpu_env/lib/python3.5/site-packages/tensorflow/python/keras/utils/tf_utils.py\u001b[0m in \u001b[0;36mto_numpy_or_python_type\u001b[0;34m(tensors)\u001b[0m\n\u001b[1;32m    521\u001b[0m     \u001b[0;32mreturn\u001b[0m \u001b[0mt\u001b[0m  \u001b[0;31m# Don't turn ragged or sparse tensors to NumPy.\u001b[0m\u001b[0;34m\u001b[0m\u001b[0m\n\u001b[1;32m    522\u001b[0m \u001b[0;34m\u001b[0m\u001b[0m\n\u001b[0;32m--> 523\u001b[0;31m   \u001b[0;32mreturn\u001b[0m \u001b[0mnest\u001b[0m\u001b[0;34m.\u001b[0m\u001b[0mmap_structure\u001b[0m\u001b[0;34m(\u001b[0m\u001b[0m_to_single_numpy_or_python_type\u001b[0m\u001b[0;34m,\u001b[0m \u001b[0mtensors\u001b[0m\u001b[0;34m)\u001b[0m\u001b[0;34m\u001b[0m\u001b[0m\n\u001b[0m\u001b[1;32m    524\u001b[0m \u001b[0;34m\u001b[0m\u001b[0m\n",
      "\u001b[0;32m~/tf_gpu/tf_gpu_env/lib/python3.5/site-packages/tensorflow/python/util/nest.py\u001b[0m in \u001b[0;36mmap_structure\u001b[0;34m(func, *structure, **kwargs)\u001b[0m\n\u001b[1;32m    615\u001b[0m \u001b[0;34m\u001b[0m\u001b[0m\n\u001b[1;32m    616\u001b[0m   return pack_sequence_as(\n\u001b[0;32m--> 617\u001b[0;31m       \u001b[0mstructure\u001b[0m\u001b[0;34m[\u001b[0m\u001b[0;36m0\u001b[0m\u001b[0;34m]\u001b[0m\u001b[0;34m,\u001b[0m \u001b[0;34m[\u001b[0m\u001b[0mfunc\u001b[0m\u001b[0;34m(\u001b[0m\u001b[0;34m*\u001b[0m\u001b[0mx\u001b[0m\u001b[0;34m)\u001b[0m \u001b[0;32mfor\u001b[0m \u001b[0mx\u001b[0m \u001b[0;32min\u001b[0m \u001b[0mentries\u001b[0m\u001b[0;34m]\u001b[0m\u001b[0;34m,\u001b[0m\u001b[0;34m\u001b[0m\u001b[0m\n\u001b[0m\u001b[1;32m    618\u001b[0m       expand_composites=expand_composites)\n\u001b[1;32m    619\u001b[0m \u001b[0;34m\u001b[0m\u001b[0m\n",
      "\u001b[0;32m~/tf_gpu/tf_gpu_env/lib/python3.5/site-packages/tensorflow/python/util/nest.py\u001b[0m in \u001b[0;36m<listcomp>\u001b[0;34m(.0)\u001b[0m\n\u001b[1;32m    615\u001b[0m \u001b[0;34m\u001b[0m\u001b[0m\n\u001b[1;32m    616\u001b[0m   return pack_sequence_as(\n\u001b[0;32m--> 617\u001b[0;31m       \u001b[0mstructure\u001b[0m\u001b[0;34m[\u001b[0m\u001b[0;36m0\u001b[0m\u001b[0;34m]\u001b[0m\u001b[0;34m,\u001b[0m \u001b[0;34m[\u001b[0m\u001b[0mfunc\u001b[0m\u001b[0;34m(\u001b[0m\u001b[0;34m*\u001b[0m\u001b[0mx\u001b[0m\u001b[0;34m)\u001b[0m \u001b[0;32mfor\u001b[0m \u001b[0mx\u001b[0m \u001b[0;32min\u001b[0m \u001b[0mentries\u001b[0m\u001b[0;34m]\u001b[0m\u001b[0;34m,\u001b[0m\u001b[0;34m\u001b[0m\u001b[0m\n\u001b[0m\u001b[1;32m    618\u001b[0m       expand_composites=expand_composites)\n\u001b[1;32m    619\u001b[0m \u001b[0;34m\u001b[0m\u001b[0m\n",
      "\u001b[0;32m~/tf_gpu/tf_gpu_env/lib/python3.5/site-packages/tensorflow/python/keras/utils/tf_utils.py\u001b[0m in \u001b[0;36m_to_single_numpy_or_python_type\u001b[0;34m(t)\u001b[0m\n\u001b[1;32m    517\u001b[0m   \u001b[0;32mdef\u001b[0m \u001b[0m_to_single_numpy_or_python_type\u001b[0m\u001b[0;34m(\u001b[0m\u001b[0mt\u001b[0m\u001b[0;34m)\u001b[0m\u001b[0;34m:\u001b[0m\u001b[0;34m\u001b[0m\u001b[0m\n\u001b[1;32m    518\u001b[0m     \u001b[0;32mif\u001b[0m \u001b[0misinstance\u001b[0m\u001b[0;34m(\u001b[0m\u001b[0mt\u001b[0m\u001b[0;34m,\u001b[0m \u001b[0mops\u001b[0m\u001b[0;34m.\u001b[0m\u001b[0mTensor\u001b[0m\u001b[0;34m)\u001b[0m\u001b[0;34m:\u001b[0m\u001b[0;34m\u001b[0m\u001b[0m\n\u001b[0;32m--> 519\u001b[0;31m       \u001b[0mx\u001b[0m \u001b[0;34m=\u001b[0m \u001b[0mt\u001b[0m\u001b[0;34m.\u001b[0m\u001b[0mnumpy\u001b[0m\u001b[0;34m(\u001b[0m\u001b[0;34m)\u001b[0m\u001b[0;34m\u001b[0m\u001b[0m\n\u001b[0m\u001b[1;32m    520\u001b[0m       \u001b[0;32mreturn\u001b[0m \u001b[0mx\u001b[0m\u001b[0;34m.\u001b[0m\u001b[0mitem\u001b[0m\u001b[0;34m(\u001b[0m\u001b[0;34m)\u001b[0m \u001b[0;32mif\u001b[0m \u001b[0mnp\u001b[0m\u001b[0;34m.\u001b[0m\u001b[0mndim\u001b[0m\u001b[0;34m(\u001b[0m\u001b[0mx\u001b[0m\u001b[0;34m)\u001b[0m \u001b[0;34m==\u001b[0m \u001b[0;36m0\u001b[0m \u001b[0;32melse\u001b[0m \u001b[0mx\u001b[0m\u001b[0;34m\u001b[0m\u001b[0m\n\u001b[1;32m    521\u001b[0m     \u001b[0;32mreturn\u001b[0m \u001b[0mt\u001b[0m  \u001b[0;31m# Don't turn ragged or sparse tensors to NumPy.\u001b[0m\u001b[0;34m\u001b[0m\u001b[0m\n",
      "\u001b[0;32m~/tf_gpu/tf_gpu_env/lib/python3.5/site-packages/tensorflow/python/framework/ops.py\u001b[0m in \u001b[0;36mnumpy\u001b[0;34m(self)\u001b[0m\n\u001b[1;32m    959\u001b[0m     \"\"\"\n\u001b[1;32m    960\u001b[0m     \u001b[0;31m# TODO(slebedev): Consider avoiding a copy for non-CPU or remote tensors.\u001b[0m\u001b[0;34m\u001b[0m\u001b[0;34m\u001b[0m\u001b[0m\n\u001b[0;32m--> 961\u001b[0;31m     \u001b[0mmaybe_arr\u001b[0m \u001b[0;34m=\u001b[0m \u001b[0mself\u001b[0m\u001b[0;34m.\u001b[0m\u001b[0m_numpy\u001b[0m\u001b[0;34m(\u001b[0m\u001b[0;34m)\u001b[0m  \u001b[0;31m# pylint: disable=protected-access\u001b[0m\u001b[0;34m\u001b[0m\u001b[0m\n\u001b[0m\u001b[1;32m    962\u001b[0m     \u001b[0;32mreturn\u001b[0m \u001b[0mmaybe_arr\u001b[0m\u001b[0;34m.\u001b[0m\u001b[0mcopy\u001b[0m\u001b[0;34m(\u001b[0m\u001b[0;34m)\u001b[0m \u001b[0;32mif\u001b[0m \u001b[0misinstance\u001b[0m\u001b[0;34m(\u001b[0m\u001b[0mmaybe_arr\u001b[0m\u001b[0;34m,\u001b[0m \u001b[0mnp\u001b[0m\u001b[0;34m.\u001b[0m\u001b[0mndarray\u001b[0m\u001b[0;34m)\u001b[0m \u001b[0;32melse\u001b[0m \u001b[0mmaybe_arr\u001b[0m\u001b[0;34m\u001b[0m\u001b[0m\n\u001b[1;32m    963\u001b[0m \u001b[0;34m\u001b[0m\u001b[0m\n",
      "\u001b[0;32m~/tf_gpu/tf_gpu_env/lib/python3.5/site-packages/tensorflow/python/framework/ops.py\u001b[0m in \u001b[0;36m_numpy\u001b[0;34m(self)\u001b[0m\n\u001b[1;32m    925\u001b[0m     \u001b[0;31m# pylint: disable=protected-access\u001b[0m\u001b[0;34m\u001b[0m\u001b[0;34m\u001b[0m\u001b[0m\n\u001b[1;32m    926\u001b[0m     \u001b[0;32mtry\u001b[0m\u001b[0;34m:\u001b[0m\u001b[0;34m\u001b[0m\u001b[0m\n\u001b[0;32m--> 927\u001b[0;31m       \u001b[0;32mreturn\u001b[0m \u001b[0mself\u001b[0m\u001b[0;34m.\u001b[0m\u001b[0m_numpy_internal\u001b[0m\u001b[0;34m(\u001b[0m\u001b[0;34m)\u001b[0m\u001b[0;34m\u001b[0m\u001b[0m\n\u001b[0m\u001b[1;32m    928\u001b[0m     \u001b[0;32mexcept\u001b[0m \u001b[0mcore\u001b[0m\u001b[0;34m.\u001b[0m\u001b[0m_NotOkStatusException\u001b[0m \u001b[0;32mas\u001b[0m \u001b[0me\u001b[0m\u001b[0;34m:\u001b[0m\u001b[0;34m\u001b[0m\u001b[0m\n\u001b[1;32m    929\u001b[0m       \u001b[0msix\u001b[0m\u001b[0;34m.\u001b[0m\u001b[0mraise_from\u001b[0m\u001b[0;34m(\u001b[0m\u001b[0mcore\u001b[0m\u001b[0;34m.\u001b[0m\u001b[0m_status_to_exception\u001b[0m\u001b[0;34m(\u001b[0m\u001b[0me\u001b[0m\u001b[0;34m.\u001b[0m\u001b[0mcode\u001b[0m\u001b[0;34m,\u001b[0m \u001b[0me\u001b[0m\u001b[0;34m.\u001b[0m\u001b[0mmessage\u001b[0m\u001b[0;34m)\u001b[0m\u001b[0;34m,\u001b[0m \u001b[0;32mNone\u001b[0m\u001b[0;34m)\u001b[0m\u001b[0;34m\u001b[0m\u001b[0m\n",
      "\u001b[0;31mKeyboardInterrupt\u001b[0m: "
     ]
    }
   ],
   "source": [
    "noises=np.random.normal(0,1,size=([data.shape[0], int(data.shape[-1]/2)]))\n",
    "VAE.compile(optimizer=tf.keras.optimizers.SGD(learning_rate=1e-4),\\\n",
    "                     loss=tf.keras.losses.CategoricalCrossentropy())\n",
    "VAE.fit(x=[data,noises], y=data, batch_size=int(data.shape[0]/4)+1, epochs=3000, verbose=1)"
   ]
  },
  {
   "cell_type": "code",
   "execution_count": 7,
   "metadata": {},
   "outputs": [
    {
     "name": "stdout",
     "output_type": "stream",
     "text": [
      "未還原平均率: 36.98753121545913 %\n",
      "錯誤平均比例: 3.048442239968339 %\n",
      "錯誤平均個數: 159.89079548633939 個\n"
     ]
    }
   ],
   "source": [
    "noises=np.random.normal(0,1,size=([data.shape[0], int(data.shape[-1]/2)]))\n",
    "avg = 0.5\n",
    "erro = 0\n",
    "no_c = 0\n",
    "for i in range(len(data)):\n",
    "    tmp  = VAE([data[i].reshape((1,data[i].shape[-1])),\\\n",
    "               noises[i].reshape((1,noises[i].shape[-1]))],training = False)\n",
    "    tmp = tmp.numpy()[0].tolist()\n",
    "    out = []\n",
    "    for element in tmp:\n",
    "        if(element<avg):\n",
    "            out.append(0)\n",
    "        else:\n",
    "            out.append(1)\n",
    "    c=0\n",
    "    for n in (data[i] - out):\n",
    "        if(n==1):\n",
    "            c+=1\n",
    "    if(sum(data[i]) == 0):\n",
    "        tmp_c = 0\n",
    "    else:\n",
    "        tmp_c = c/sum(data[i])*100\n",
    "    no_c += tmp_c\n",
    "    clear_output(wait=True)\n",
    "    print(i,\"/10723\")\n",
    "    print(\"原資料未還原率:\",int(tmp_c),\"%\")\n",
    "    print(\"資料前10筆比對:\")\n",
    "    print(out[:10])\n",
    "    print(data[i][:10])\n",
    "    print(\"錯誤個數:\",sum(abs(out - data[i])))\n",
    "    print(\"錯誤比例:\",sum(abs(out - data[i]))/data.shape[-1])\n",
    "    erro+=sum(abs(out - data[i]))/data.shape[-1]\n",
    "    #time.sleep(0.1)\n",
    "clear_output(wait=True)\n",
    "print(\"未還原平均率:\",no_c/len(data),\"%\")\n",
    "print(\"錯誤平均比例:\",erro/len(data)*100,\"%\")\n",
    "print(\"錯誤平均個數:\",erro/len(data)*data.shape[-1],\"個\")"
   ]
  },
  {
   "cell_type": "code",
   "execution_count": null,
   "metadata": {},
   "outputs": [],
   "source": []
  }
 ],
 "metadata": {
  "kernelspec": {
   "display_name": "Python 3",
   "language": "python",
   "name": "python3"
  },
  "language_info": {
   "codemirror_mode": {
    "name": "ipython",
    "version": 3
   },
   "file_extension": ".py",
   "mimetype": "text/x-python",
   "name": "python",
   "nbconvert_exporter": "python",
   "pygments_lexer": "ipython3",
   "version": "3.7.3"
  }
 },
 "nbformat": 4,
 "nbformat_minor": 4
}
