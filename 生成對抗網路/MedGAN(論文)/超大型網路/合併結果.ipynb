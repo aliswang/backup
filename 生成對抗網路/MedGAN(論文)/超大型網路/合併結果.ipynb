{
 "cells": [
  {
   "cell_type": "code",
   "execution_count": 1,
   "metadata": {},
   "outputs": [
    {
     "name": "stdout",
     "output_type": "stream",
     "text": [
      "(10723, 5245) (10723, 3000)\n"
     ]
    }
   ],
   "source": [
    "import numpy as np\n",
    "import time\n",
    "import tensorflow as tf\n",
    "import data_format as df\n",
    "from IPython.display import clear_output\n",
    "BUFFER_SIZE = 60000\n",
    "BATCH_SIZE = 128\n",
    "noise_dim = 3000\n",
    "data=np.load(\"origin_data.npy\")\n",
    "try:\n",
    "    noises = np.load('noise_3000.npy')\n",
    "except:\n",
    "    print(\"makeing_noise\")\n",
    "    noises=tf.random.normal([10723, 3000])\n",
    "    np.save('noise_3000.npy', noises)\n",
    "print(data.shape , noises.shape)"
   ]
  },
  {
   "cell_type": "code",
   "execution_count": 2,
   "metadata": {},
   "outputs": [],
   "source": [
    "def build_generator_1():\n",
    "    inp = tf.keras.Input((noise_dim,))\n",
    "    x1 = tf.keras.layers.Dense(dense_dim/4, name=\"layer11\", bias_regularizer=tf.keras.regularizers.l2(0.01))(inp)\n",
    "    x1 = tf.keras.layers.Dense(dense_dim/2, name=\"layer12\", bias_regularizer=tf.keras.regularizers.l2(0.01))(x1)\n",
    "    x1 = tf.keras.layers.Dense(dense_dim/4, name=\"layer13\", bias_regularizer=tf.keras.regularizers.l2(0.01))(x1)\n",
    "    x1 = tf.keras.layers.BatchNormalization(name=\"bn11\")(x1)\n",
    "    x2 = tf.keras.layers.Dense(dense_dim/4, name=\"layer14\", bias_regularizer=tf.keras.regularizers.l2(0.01))(inp)\n",
    "    x2 = tf.keras.layers.BatchNormalization(name=\"bn12\")(x2)   \n",
    "    x = 0.5*x1 + 0.5*x2\n",
    "    \n",
    "    x1 = tf.keras.layers.Dense(dense_dim/4, name=\"layer21\", bias_regularizer=tf.keras.regularizers.l2(0.01))(x)\n",
    "    x1 = tf.keras.layers.Dense(dense_dim/2, name=\"layer22\", bias_regularizer=tf.keras.regularizers.l2(0.01))(x1)\n",
    "    x1 = tf.keras.layers.Dense(dense_dim/4, name=\"layer23\", bias_regularizer=tf.keras.regularizers.l2(0.01))(x1)\n",
    "    x1 = tf.keras.layers.BatchNormalization(name=\"bn21\")(x1)\n",
    "    x2 = tf.keras.layers.Dense(dense_dim/4, name=\"layer24\", bias_regularizer=tf.keras.regularizers.l2(0.01))(x)\n",
    "    x2 = tf.keras.layers.BatchNormalization(name=\"bn22\")(x2)    \n",
    "    x = 0.5*x1 + 0.5*x2\n",
    "    \n",
    "    x1 = tf.keras.layers.Dense(dense_dim/2, name=\"layer31\", bias_regularizer=tf.keras.regularizers.l2(0.01))(x)\n",
    "    x1 = tf.keras.layers.Dense(dense_dim, name=\"layer32\",bias_regularizer=tf.keras.regularizers.l2(0.01))(x1)\n",
    "    x1 = tf.keras.layers.Dense(dense_dim/2, name=\"layer33\", bias_regularizer=tf.keras.regularizers.l2(0.01))(x1)\n",
    "    x1 = tf.keras.layers.BatchNormalization(name=\"bn31\")(x1)\n",
    "    x2 = tf.keras.layers.Dense(dense_dim/2, name=\"layer34\", bias_regularizer=tf.keras.regularizers.l2(0.01))(x)\n",
    "    x2 = tf.keras.layers.BatchNormalization(name=\"bn32\")(x2)   \n",
    "    x = 0.5*x1 + 0.5*x2\n",
    "    \n",
    "    x1 = tf.keras.layers.Dense(dense_dim/2, name=\"layer41\", bias_regularizer=tf.keras.regularizers.l2(0.01))(x)\n",
    "    x1 = tf.keras.layers.Dense(dense_dim, name=\"layer42\", bias_regularizer=tf.keras.regularizers.l2(0.01))(x1)\n",
    "    x1 = tf.keras.layers.Dense(dense_dim/2, name=\"layer43\", bias_regularizer=tf.keras.regularizers.l2(0.01))(x1)\n",
    "    x1 = tf.keras.layers.BatchNormalization(name=\"bn41\")(x1)\n",
    "    x2 = tf.keras.layers.Dense(dense_dim/2, name=\"layer44\", bias_regularizer=tf.keras.regularizers.l2(0.01))(x)\n",
    "    x2 = tf.keras.layers.BatchNormalization(name=\"bn42\")(x2)   \n",
    "    x = 0.5*x1 + 0.5*x2\n",
    "    \n",
    "    x1 = tf.keras.layers.Dense(data.shape[-1], name=\"layer51\", bias_regularizer=tf.keras.regularizers.l2(0.01))(x)\n",
    "    x1 = tf.keras.layers.Dense(data.shape[-1]*2, name=\"layer52\", bias_regularizer=tf.keras.regularizers.l2(0.01))(x1)\n",
    "    x1 = tf.keras.layers.Dense(data.shape[-1], name=\"layer53\", bias_regularizer=tf.keras.regularizers.l2(0.01))(x1) \n",
    "    x1 = tf.keras.layers.BatchNormalization(name=\"bn51\")(x1)\n",
    "    x2 = tf.keras.layers.Dense(data.shape[-1], name=\"layer54\", bias_regularizer=tf.keras.regularizers.l2(0.01))(x)\n",
    "    x2 = tf.keras.layers.BatchNormalization(name=\"bn52\")(x2)      \n",
    "    x = 0.5*x1 + 0.5*x2\n",
    "    \n",
    "    x = tf.keras.layers.Attention(name=\"att1\")([x, x])\n",
    "    o = x\n",
    "    \n",
    "    return tf.keras.Model(inputs=[inp], outputs=[o])   "
   ]
  },
  {
   "cell_type": "code",
   "execution_count": 3,
   "metadata": {},
   "outputs": [
    {
     "name": "stdout",
     "output_type": "stream",
     "text": [
      "tf.Tensor([[0.07822514 0.0543565  0.1729703  ... 0.21795256 0.10473493 0.13076359]], shape=(1, 1311), dtype=float32)\n"
     ]
    }
   ],
   "source": [
    "generator = build_generator_1()\n",
    "try:\n",
    "    generator.load_weights(\"gen_batch_noise_1311_1.h5\",by_name=True)\n",
    "except:\n",
    "    print(\"erro loading pre_g\")\n",
    "noise = tf.random.normal([1, 3000])\n",
    "print(generator(noise, training=False))    "
   ]
  },
  {
   "cell_type": "code",
   "execution_count": 5,
   "metadata": {
    "scrolled": true
   },
   "outputs": [
    {
     "name": "stdout",
     "output_type": "stream",
     "text": [
      "10722  /10723\n"
     ]
    }
   ],
   "source": [
    "out_data_1=[]\n",
    "for i in range(data.shape[0]):\n",
    "    noise = noises[i].reshape((1,noises[i].shape[0]))\n",
    "    gen = generator(noise, training=False).numpy().tolist()[0]\n",
    "    out_data_1.append(gen)\n",
    "    clear_output(wait=True)\n",
    "    print(i,\" /10723\")"
   ]
  },
  {
   "cell_type": "code",
   "execution_count": 6,
   "metadata": {},
   "outputs": [
    {
     "data": {
      "text/plain": [
       "((14057853,), (14057853,), 17.66330738488679)"
      ]
     },
     "execution_count": 6,
     "metadata": {},
     "output_type": "execute_result"
    }
   ],
   "source": [
    "out_data_t = np.asarray(out_data_1).reshape((10723* 1311))\n",
    "inp_data_t = np.load(\"dense1311.npy\").reshape((10723* 1311))\n",
    "out_data_t.shape , inp_data_t.shape ,((out_data_t - inp_data_t)**2).mean()"
   ]
  },
  {
   "cell_type": "code",
   "execution_count": 3,
   "metadata": {},
   "outputs": [],
   "source": [
    "def build_generator_2():\n",
    "    inp=tf.keras.Input((noise_dim,))\n",
    "    \n",
    "    x1 = tf.keras.layers.Dense(dense_dim/4, name=\"layer11\", bias_regularizer=tf.keras.regularizers.l2(0.01))(inp)\n",
    "    x1 = tf.nn.leaky_relu(x1)\n",
    "    x1 = tf.keras.layers.Dense(dense_dim/2, name=\"layer12\", bias_regularizer=tf.keras.regularizers.l2(0.01))(x1)\n",
    "    x1 = tf.nn.leaky_relu(x1)\n",
    "    x1 = tf.keras.layers.Dense(dense_dim/4, name=\"layer13\", bias_regularizer=tf.keras.regularizers.l2(0.01))(x1)\n",
    "    x1 = tf.nn.leaky_relu(x1)\n",
    "    x1 = tf.keras.layers.BatchNormalization(name=\"bn11\")(x1)\n",
    "    x2 = tf.keras.layers.Dense(dense_dim/4, name=\"layer14\", bias_regularizer=tf.keras.regularizers.l2(0.01))(inp)\n",
    "    x2 = tf.nn.leaky_relu(x2)\n",
    "    x2 = tf.keras.layers.BatchNormalization(name=\"bn12\")(x2)   \n",
    "    x = 0.5*x1 + 0.5*x2\n",
    "    \n",
    "    x1 = tf.keras.layers.Dense(dense_dim/4, name=\"layer21\", bias_regularizer=tf.keras.regularizers.l2(0.01))(x)\n",
    "    x1 = tf.nn.leaky_relu(x1)\n",
    "    x1 = tf.keras.layers.Dense(dense_dim/2, name=\"layer22\", bias_regularizer=tf.keras.regularizers.l2(0.01))(x1)\n",
    "    x1 = tf.nn.leaky_relu(x1)\n",
    "    x1 = tf.keras.layers.Dense(dense_dim/4, name=\"layer23\", bias_regularizer=tf.keras.regularizers.l2(0.01))(x1)\n",
    "    x1 = tf.nn.leaky_relu(x1)\n",
    "    x1 = tf.keras.layers.BatchNormalization(name=\"bn21\")(x1)\n",
    "    x2 = tf.keras.layers.Dense(dense_dim/4, name=\"layer24\", bias_regularizer=tf.keras.regularizers.l2(0.01))(x)\n",
    "    x2 = tf.nn.leaky_relu(x2)\n",
    "    x2 = tf.keras.layers.BatchNormalization(name=\"bn22\")(x2) \n",
    "    \n",
    "    x3 = tf.keras.layers.Dense(dense_dim/4, name=\"layert11\", bias_regularizer=tf.keras.regularizers.l2(0.01))(inp)\n",
    "    x3 = tf.nn.leaky_relu(x3)\n",
    "    x3 = tf.keras.layers.Dense(dense_dim/4, name=\"layert12\", bias_regularizer=tf.keras.regularizers.l2(0.01))(x3)\n",
    "    x3 = tf.nn.leaky_relu(x3)\n",
    "    x3 = tf.keras.layers.Dense(dense_dim/4, name=\"layert13\", bias_regularizer=tf.keras.regularizers.l2(0.01))(x3)\n",
    "    x3 = tf.nn.leaky_relu(x3)\n",
    "    \n",
    "    x_half = 0.5*x1 + 0.5*x2 + x3\n",
    "    \n",
    "    x1 = tf.keras.layers.Dense(dense_dim/2, name=\"layer31\", bias_regularizer=tf.keras.regularizers.l2(0.01))(x_half)\n",
    "    x1 = tf.nn.leaky_relu(x1)\n",
    "    x1 = tf.keras.layers.Dense(dense_dim, name=\"layer32\", bias_regularizer=tf.keras.regularizers.l2(0.01))(x1)\n",
    "    x1 = tf.nn.leaky_relu(x1)\n",
    "    x1 = tf.keras.layers.Dense(dense_dim/2, name=\"layer33\", bias_regularizer=tf.keras.regularizers.l2(0.01))(x1)\n",
    "    x1 = tf.nn.leaky_relu(x1)\n",
    "    x1 = tf.keras.layers.BatchNormalization(name=\"bn31\")(x1)\n",
    "    x2 = tf.keras.layers.Dense(dense_dim/2, name=\"layer34\", bias_regularizer=tf.keras.regularizers.l2(0.01))(x_half)\n",
    "    x2 = tf.nn.leaky_relu(x2)\n",
    "    x2 = tf.keras.layers.BatchNormalization(name=\"bn32\")(x2)   \n",
    "    x = 0.5*x1 + 0.5*x2\n",
    "    \n",
    "    x1 = tf.keras.layers.Dense(dense_dim/2, name=\"layer41\", bias_regularizer=tf.keras.regularizers.l2(0.01))(x)\n",
    "    x1 = tf.nn.leaky_relu(x1)\n",
    "    x1 = tf.keras.layers.Dense(dense_dim, name=\"layer42\", bias_regularizer=tf.keras.regularizers.l2(0.01))(x1)\n",
    "    x1 = tf.nn.leaky_relu(x1)\n",
    "    x1 = tf.keras.layers.Dense(dense_dim/2, name=\"layer43\", bias_regularizer=tf.keras.regularizers.l2(0.01))(x1)\n",
    "    x1 = tf.nn.leaky_relu(x1)\n",
    "    x1 = tf.keras.layers.BatchNormalization(name=\"bn41\")(x1)\n",
    "    x2 = tf.keras.layers.Dense(dense_dim/2, name=\"layer44\", bias_regularizer=tf.keras.regularizers.l2(0.01))(x)\n",
    "    x2 = tf.nn.leaky_relu(x2)\n",
    "    x2 = tf.keras.layers.BatchNormalization(name=\"bn42\")(x2)\n",
    "       \n",
    "    x3 = tf.keras.layers.Dense(dense_dim/2, name=\"layert21\", bias_regularizer=tf.keras.regularizers.l2(0.01))(x_half)\n",
    "    x3 = tf.nn.leaky_relu(x3)\n",
    "    x3 = tf.keras.layers.Dense(dense_dim/2, name=\"layert22\", bias_regularizer=tf.keras.regularizers.l2(0.01))(x3)\n",
    "    x3 = tf.nn.leaky_relu(x3)\n",
    "    x3 = tf.keras.layers.Dense(dense_dim/2, name=\"layert23\", bias_regularizer=tf.keras.regularizers.l2(0.01))(x3)\n",
    "    x3 = tf.nn.leaky_relu(x3)\n",
    "    \n",
    "    x = 0.5*x1 + 0.5*x2 + x3\n",
    "    \n",
    "    x = tf.keras.layers.Attention()([x, x])\n",
    "    \n",
    "    x1 = tf.keras.layers.Dense(data.shape[-1], name=\"layer51\", bias_regularizer=tf.keras.regularizers.l2(0.01))(x)\n",
    "    x1 = tf.nn.leaky_relu(x1)\n",
    "    x1 = tf.keras.layers.Dense(data.shape[-1]*2, name=\"layer52\", bias_regularizer=tf.keras.regularizers.l2(0.01))(x1)\n",
    "    x1 = tf.nn.leaky_relu(x1)\n",
    "    x1 = tf.keras.layers.Dense(data.shape[-1], name=\"layer53\", bias_regularizer=tf.keras.regularizers.l2(0.01))(x1) \n",
    "    x1 = tf.nn.leaky_relu(x1)\n",
    "    x2 = tf.keras.layers.Dense(data.shape[-1], name=\"layer54\", bias_regularizer=tf.keras.regularizers.l2(0.01))(x)\n",
    "    x2 = tf.nn.leaky_relu(x2)\n",
    "    o = x1 + x2\n",
    "    \n",
    "    return tf.keras.Model(inputs=[inp], outputs=[o])    "
   ]
  },
  {
   "cell_type": "code",
   "execution_count": 7,
   "metadata": {},
   "outputs": [
    {
     "name": "stdout",
     "output_type": "stream",
     "text": [
      "tf.Tensor(\n",
      "[[-1.6560415   0.28336352 -9.827019   ...  0.93698055  1.3135743\n",
      "   0.32954976]], shape=(1, 2622), dtype=float32)\n"
     ]
    }
   ],
   "source": [
    "generator = build_generator_2()\n",
    "try:\n",
    "    generator.load_weights(\"gen_batch_1311_2622.h5\", by_name=True)\n",
    "except:\n",
    "    print(\"erro loading pre_g\")\n",
    "noise = tf.random.normal([1, 1311])\n",
    "print(generator(noise, training=False))    "
   ]
  },
  {
   "cell_type": "code",
   "execution_count": 9,
   "metadata": {
    "scrolled": true
   },
   "outputs": [
    {
     "name": "stdout",
     "output_type": "stream",
     "text": [
      "10722  /10723\n"
     ]
    }
   ],
   "source": [
    "del inp_data_t\n",
    "del out_data_t\n",
    "out_data_2 = []\n",
    "for i in range(data.shape[0]):\n",
    "    noise= np.asarray(out_data_1[i]).reshape((1, 1311))\n",
    "    gen=generator(noise, training=False).numpy().tolist()[0]\n",
    "    out_data_2.append(gen)\n",
    "    clear_output(wait=True)\n",
    "    print(i, \" /10723\")\n",
    "del out_data_1"
   ]
  },
  {
   "cell_type": "code",
   "execution_count": 11,
   "metadata": {},
   "outputs": [
    {
     "data": {
      "text/plain": [
       "((28115706,), (28115706,), 145.6749346279692)"
      ]
     },
     "execution_count": 11,
     "metadata": {},
     "output_type": "execute_result"
    }
   ],
   "source": [
    "out_data_t = np.asarray(out_data_2).reshape((10723* 2622))\n",
    "inp_data_t = np.load(\"dense2622.npy\").reshape((10723* 2622))\n",
    "out_data_t.shape, inp_data_t.shape, ((out_data_t - inp_data_t)**2).mean()"
   ]
  },
  {
   "cell_type": "code",
   "execution_count": null,
   "metadata": {},
   "outputs": [],
   "source": [
    "def build_generator_3():\n",
    "    inp = tf.keras.Input((noise_dim,))\n",
    "    x1 = tf.keras.layers.Dense(dense_dim/4, name=\"layer11\", bias_regularizer=tf.keras.regularizers.l2(0.01))(inp)\n",
    "    x1 = tf.keras.layers.Dense(dense_dim/2, name=\"layer12\", bias_regularizer=tf.keras.regularizers.l2(0.01))(x1)\n",
    "    x1 = tf.keras.layers.Dense(dense_dim/4, name=\"layer13\", bias_regularizer=tf.keras.regularizers.l2(0.01))(x1)\n",
    "    x1 = tf.keras.layers.BatchNormalization(name=\"bn11\")(x1)\n",
    "    x2 = tf.keras.layers.Dense(dense_dim/4, name=\"layer14\", bias_regularizer=tf.keras.regularizers.l2(0.01))(inp)\n",
    "    x2 = tf.keras.layers.BatchNormalization(name=\"bn12\")(x2)   \n",
    "    x = 0.5*x1 + 0.5*x2\n",
    "    \n",
    "    x1 = tf.keras.layers.Dense(dense_dim/4, name=\"layer21\", bias_regularizer=tf.keras.regularizers.l2(0.01))(x)\n",
    "    x1 = tf.keras.layers.Dense(dense_dim/2, name=\"layer22\", bias_regularizer=tf.keras.regularizers.l2(0.01))(x1)\n",
    "    x1 = tf.keras.layers.Dense(dense_dim/4, name=\"layer23\", bias_regularizer=tf.keras.regularizers.l2(0.01))(x1)\n",
    "    x1 = tf.keras.layers.BatchNormalization(name=\"bn21\")(x1)\n",
    "    x2 = tf.keras.layers.Dense(dense_dim/4, name=\"layer24\", bias_regularizer=tf.keras.regularizers.l2(0.01))(x)\n",
    "    x2 = tf.keras.layers.BatchNormalization(name=\"bn22\")(x2)    \n",
    "    x = 0.5*x1 + 0.5*x2\n",
    "    \n",
    "    x1 = tf.keras.layers.Dense(dense_dim/2, name=\"layer31\", bias_regularizer=tf.keras.regularizers.l2(0.01))(x)\n",
    "    x1 = tf.keras.layers.Dense(dense_dim, name=\"layer32\",bias_regularizer=tf.keras.regularizers.l2(0.01))(x1)\n",
    "    x1 = tf.keras.layers.Dense(dense_dim/2, name=\"layer33\", bias_regularizer=tf.keras.regularizers.l2(0.01))(x1)\n",
    "    x1 = tf.keras.layers.BatchNormalization(name=\"bn31\")(x1)\n",
    "    x2 = tf.keras.layers.Dense(dense_dim/2, name=\"layer34\", bias_regularizer=tf.keras.regularizers.l2(0.01))(x)\n",
    "    x2 = tf.keras.layers.BatchNormalization(name=\"bn32\")(x2)   \n",
    "    x = 0.5*x1 + 0.5*x2\n",
    "    \n",
    "    x1 = tf.keras.layers.Dense(dense_dim/2, name=\"layer41\", bias_regularizer=tf.keras.regularizers.l2(0.01))(x)\n",
    "    x1 = tf.keras.layers.Dense(dense_dim, name=\"layer42\", bias_regularizer=tf.keras.regularizers.l2(0.01))(x1)\n",
    "    x1 = tf.keras.layers.Dense(dense_dim/2, name=\"layer43\", bias_regularizer=tf.keras.regularizers.l2(0.01))(x1)\n",
    "    x1 = tf.keras.layers.BatchNormalization(name=\"bn41\")(x1)\n",
    "    x2 = tf.keras.layers.Dense(dense_dim/2, name=\"layer44\", bias_regularizer=tf.keras.regularizers.l2(0.01))(x)\n",
    "    x2 = tf.keras.layers.BatchNormalization(name=\"bn42\")(x2)   \n",
    "    x = 0.5*x1 + 0.5*x2\n",
    "    \n",
    "    x1 = tf.keras.layers.Dense(data.shape[-1], name=\"layer51\", bias_regularizer=tf.keras.regularizers.l2(0.01))(x)\n",
    "    x1 = tf.keras.layers.Dense(data.shape[-1]*2, name=\"layer52\", bias_regularizer=tf.keras.regularizers.l2(0.01))(x1)\n",
    "    x1 = tf.keras.layers.Dense(data.shape[-1], name=\"layer53\", bias_regularizer=tf.keras.regularizers.l2(0.01))(x1) \n",
    "    x1 = tf.keras.layers.BatchNormalization(name=\"bn51\")(x1)\n",
    "    x2 = tf.keras.layers.Dense(data.shape[-1], name=\"layer54\", bias_regularizer=tf.keras.regularizers.l2(0.01))(x)\n",
    "    x2 = tf.keras.layers.BatchNormalization(name=\"bn52\")(x2)      \n",
    "    x = 0.5*x1 + 0.5*x2\n",
    "    \n",
    "    x = tf.keras.layers.Attention(name=\"att1\")([x, x])\n",
    "    o = x\n",
    "    \n",
    "    return tf.keras.Model(inputs=[inp], outputs=[o]) "
   ]
  },
  {
   "cell_type": "code",
   "execution_count": 12,
   "metadata": {},
   "outputs": [
    {
     "name": "stdout",
     "output_type": "stream",
     "text": [
      "tf.Tensor([[0.6111403  0.18039604 0.21466637 ... 0.1621449  0.19138445 0.16518927]], shape=(1, 5245), dtype=float32)\n"
     ]
    }
   ],
   "source": [
    "generator = build_generator_3()\n",
    "try:\n",
    "    generator.load_weights(\"gen_batch_2622_full.h5\",by_name=True)\n",
    "except:\n",
    "    print(\"erro loading pre_g\")\n",
    "noise = tf.random.normal([1, 2622])\n",
    "print(generator(noise, training=False))    "
   ]
  },
  {
   "cell_type": "code",
   "execution_count": 13,
   "metadata": {},
   "outputs": [
    {
     "name": "stdout",
     "output_type": "stream",
     "text": [
      "10722  /10723\n"
     ]
    }
   ],
   "source": [
    "del inp_data_t\n",
    "del out_data_t\n",
    "out_data_3 = []\n",
    "for i in range(data.shape[0]):\n",
    "    noise = np.asarray(out_data_2[i]).reshape((1,2622))\n",
    "    gen = generator(noise, training=False).numpy().tolist()[0]\n",
    "    out_data_3.append(gen)\n",
    "    clear_output(wait=True)\n",
    "    print(i, \" /10723\")\n",
    "del out_data_2"
   ]
  },
  {
   "cell_type": "code",
   "execution_count": 14,
   "metadata": {},
   "outputs": [
    {
     "data": {
      "text/plain": [
       "((56242135,), (56242135,), 0.0967634538553412)"
      ]
     },
     "execution_count": 14,
     "metadata": {},
     "output_type": "execute_result"
    }
   ],
   "source": [
    "out_data_t = np.asarray(out_data_3).reshape((10723* 5245))\n",
    "inp_data_t = np.load(\"out_1.npy\").reshape((10723* 5245))\n",
    "out_data_t.shape, inp_data_t.shape, ((out_data_t - inp_data_t)**2).mean()"
   ]
  },
  {
   "cell_type": "code",
   "execution_count": 4,
   "metadata": {},
   "outputs": [],
   "source": [
    "def show_result(out_data,data,useavg=True,avgbase=5,limit=1,bigest_num=10,cut=100,n=2):\n",
    "    #資料處理\n",
    "    print(\"aprioriing data\")\n",
    "    out_file_name = \"out_dnum.txt\"\n",
    "    inp_file_name = \"input_dnum.txt\"\n",
    "    out_apriorifile_name = \"o_apriori.txt\"\n",
    "    inp_apriorifile_name = \"i_apriori.txt\"\n",
    "    inpdata=df.format_inpdata(data)\n",
    "    outdata=df.format_outdata(out_data, use_avg=useavg, avgbase=avgbase, limit=limit, bigest_num=bigest_num)\n",
    "    df.writedatafile(inpdata, outdata, inp_file_name, out_file_name)\n",
    "    df.apriori(cut, out_file_name, out_apriorifile_name)\n",
    "    df.apriori(cut, inp_file_name, inp_apriorifile_name)\n",
    "    #顯示結果\n",
    "    print(\"showing data\")\n",
    "    print(\"n=1\")\n",
    "    inp_seq_y, inp_seq_x = df.read_n_seq(inp_apriorifile_name, 1)\n",
    "    out_seq_y, out_seq_x = df.read_n_seq(out_apriorifile_name, 1)\n",
    "    df.plt_format(inp_seq_x, inp_seq_y, out_seq_x, out_seq_y)\n",
    "    print(\"n=\",n)\n",
    "    inp_seq_y, inp_seq_x = df.read_n_seq(inp_apriorifile_name, n)\n",
    "    out_seq_y, out_seq_x = df.read_n_seq(out_apriorifile_name, n)\n",
    "    df.plt_format(inp_seq_x, inp_seq_y, out_seq_x, out_seq_y)"
   ]
  },
  {
   "cell_type": "code",
   "execution_count": 16,
   "metadata": {},
   "outputs": [
    {
     "name": "stdout",
     "output_type": "stream",
     "text": [
      "aprioriing data\n",
      "total_data_long: 107230\n",
      "time: 0.32s\n",
      "time: 4.86s\n",
      "showing data\n",
      "n=1\n"
     ]
    },
    {
     "data": {
      "image/png": "[encoded data removed]",
      "text/plain": [
       "<Figure size 432x288 with 1 Axes>"
      ]
     },
     "metadata": {
      "needs_background": "light"
     },
     "output_type": "display_data"
    },
    {
     "name": "stdout",
     "output_type": "stream",
     "text": [
      "mse= 32785.28575443563\n",
      "cos 0.7370380372913496\n",
      "pccs (0.19217760282900823, 0.0011349562757190942)\n",
      "n= 2\n"
     ]
    },
    {
     "data": {
      "image/png": "[encoded data removed]",
      "text/plain": [
       "<Figure size 432x288 with 1 Axes>"
      ]
     },
     "metadata": {
      "needs_background": "light"
     },
     "output_type": "display_data"
    },
    {
     "name": "stdout",
     "output_type": "stream",
     "text": [
      "mse= 71952.30593942074\n",
      "cos 0.9400179896889052\n",
      "pccs (-0.13766529607884892, 1.041378783105899e-06)\n"
     ]
    }
   ],
   "source": [
    "show_result(out_data_3, data, avgbase=1)"
   ]
  },
  {
   "cell_type": "code",
   "execution_count": null,
   "metadata": {},
   "outputs": [],
   "source": [
    "#偏移量\n",
    "#model 1 -> model 2\n",
    "#1.5406178593411157 = 184.73132150360726/72.71117961499158-1\n",
    "\n",
    "#model 2 -> model 3 \n",
    "#5.906206255587159 = 0.2504970636264649/0.03627129777999483-1\n",
    "\n",
    "#前模組對後模組的影響率 "
   ]
  },
  {
   "cell_type": "code",
   "execution_count": null,
   "metadata": {},
   "outputs": [],
   "source": []
  }
 ],
 "metadata": {
  "kernelspec": {
   "display_name": "Python 3",
   "language": "python",
   "name": "python3"
  },
  "language_info": {
   "codemirror_mode": {
    "name": "ipython",
    "version": 3
   },
   "file_extension": ".py",
   "mimetype": "text/x-python",
   "name": "python",
   "nbconvert_exporter": "python",
   "pygments_lexer": "ipython3",
   "version": "3.7.3"
  }
 },
 "nbformat": 4,
 "nbformat_minor": 4
}
