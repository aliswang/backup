{
 "cells": [
  {
   "cell_type": "code",
   "execution_count": null,
   "metadata": {},
   "outputs": [],
   "source": [
    "#py檔案內容簡介\n",
    "#前置\n",
    "#同一層資料夾內\n",
    "#py檔\n",
    "#ipynb檔\n",
    "#圖片檔(被包在資料夾內) "
   ]
  },
  {
   "cell_type": "code",
   "execution_count": 2,
   "metadata": {},
   "outputs": [],
   "source": [
    "#呼叫\n",
    "import flower_dataset as fd"
   ]
  },
  {
   "cell_type": "code",
   "execution_count": 3,
   "metadata": {},
   "outputs": [],
   "source": [
    "(x_train, y_train), (x_test, y_test) = fd.get_data()\n",
    "#取得轉換檔案\n",
    "#讀取時間會很長\n",
    "\n",
    "#get_data()內變數\n",
    "#test_cut(將多少筆資料轉成測試資料) 預設為0.8\n",
    "#test_cut*總資料筆數=訓練資料筆數\n",
    "\n",
    "#normalize(圖片由0~255轉成0~1) 預設為True\n",
    "\n",
    "#one_hot(答案轉為one_hot) 預設為False\n",
    "#one_hot為False時候 傳回陣列為字串\n",
    "\n",
    "#format_size(修改圖片大小(正方形)) 預設為28x28\n",
    "#format_size只可輸入一個變數 轉換成變數x變數大小"
   ]
  },
  {
   "cell_type": "code",
   "execution_count": 4,
   "metadata": {},
   "outputs": [],
   "source": [
    "batch_size = 100\n",
    "batch_x = fd.next_batch(batch_size)\n",
    "#抓取下一筆資料\n",
    "#重複呼叫會回傳不同的x_train資料\n",
    "#排序為順序 當剩餘資料不夠batch時 自動重頭開始\n",
    "#請勿batch_size設定大於x_train大小"
   ]
  },
  {
   "cell_type": "code",
   "execution_count": 6,
   "metadata": {},
   "outputs": [
    {
     "name": "stdout",
     "output_type": "stream",
     "text": [
      "<class 'numpy.ndarray'>\n",
      "訓練資料: (3458, 28, 28, 3)\n",
      "訓練答案: (3458,)\n"
     ]
    }
   ],
   "source": [
    "print(type(x_train))\n",
    "#回傳格式為array\n",
    "print(\"訓練資料: \" + str(x_train.shape))\n",
    "print(\"訓練答案: \" + str(y_train.shape))"
   ]
  },
  {
   "cell_type": "code",
   "execution_count": 9,
   "metadata": {},
   "outputs": [
    {
     "name": "stdout",
     "output_type": "stream",
     "text": [
      "<class 'numpy.ndarray'>\n",
      "資料筆數100\n"
     ]
    }
   ],
   "source": [
    "print(type(batch_x))\n",
    "#回傳格式為list\n",
    "print(\"資料筆數\" + str(len(batch_x)))\n",
    "#shape為(batch_size,28,28,3)"
   ]
  },
  {
   "cell_type": "code",
   "execution_count": null,
   "metadata": {},
   "outputs": [],
   "source": []
  }
 ],
 "metadata": {
  "kernelspec": {
   "display_name": "Python 3",
   "language": "python",
   "name": "python3"
  },
  "language_info": {
   "codemirror_mode": {
    "name": "ipython",
    "version": 3
   },
   "file_extension": ".py",
   "mimetype": "text/x-python",
   "name": "python",
   "nbconvert_exporter": "python",
   "pygments_lexer": "ipython3",
   "version": "3.7.3"
  }
 },
 "nbformat": 4,
 "nbformat_minor": 2
}
