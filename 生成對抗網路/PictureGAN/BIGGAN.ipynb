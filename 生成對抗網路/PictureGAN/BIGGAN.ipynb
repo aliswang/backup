{
 "cells": [
  {
   "cell_type": "code",
   "execution_count": null,
   "metadata": {
    "id": "mxd023BViy7r"
   },
   "outputs": [],
   "source": [
    "import numpy\n",
    "import os\n",
    "import random\n",
    "from PIL import Image\n",
    "\n",
    "label=['daisy', 'dandelion', 'rose', 'sunflower', 'tulip']\n",
    "batch_count = 0\n",
    "x_train_size = 0\n",
    "x_train = 0\n",
    "\n",
    "def get_array(file_name, format_size):\n",
    "    path=\"./drive/My Drive/flower_dataset/\" + file_name + \"/\"\n",
    "    images=[]\n",
    "    for r, d, f in os.walk(path):\n",
    "        for file in f:\n",
    "            if '.jpg' in file:\n",
    "                image = Image.open(os.path.join(r, file))\n",
    "                image = image.resize((format_size,format_size))\n",
    "                image = list(numpy.asarray(image))\n",
    "                images.append(image)\n",
    "    return images\n",
    "\n",
    "def one_hot_(a):\n",
    "    global label\n",
    "    b = numpy.zeros((a.size, len(label)))\n",
    "    for i in range(len(a)):\n",
    "        b[i][label.index(a[i])] = 1\n",
    "    return b\n",
    "\n",
    "def get_data(test_cut=0.8, normalize=True, one_hot=False, format_size=28):\n",
    "    global x_train_size\n",
    "    global x_train\n",
    "    all_img = []\n",
    "    all_label = []\n",
    "    for i in label:\n",
    "        print(i)\n",
    "        img_tmp = get_array(i, format_size)\n",
    "        label_tmp = list(numpy.full(len(img_tmp), i))\n",
    "        if i=='daisy':\n",
    "            all_img = img_tmp\n",
    "        else:\n",
    "            all_img += img_tmp\n",
    "        all_label += label_tmp\n",
    "    img_random = []\n",
    "    label_random = []\n",
    "    r = random.sample(range(0,len(all_label)),len(all_label))\n",
    "    for i in range(len(r)):\n",
    "        img_random += [all_img[int(r[i])]]\n",
    "        label_random += [all_label[int(r[i])]]\n",
    "    img_random = numpy.asarray(img_random)\n",
    "    label_random = numpy.asarray(label_random)\n",
    "    if(normalize == True):\n",
    "        img_random = img_random.astype('float32') / 255.0\n",
    "    num=int(len(label_random) * test_cut)\n",
    "    x_train = img_random[:num]\n",
    "    y_train = label_random[:num]\n",
    "    x_test = img_random[num:]\n",
    "    y_test = label_random[num:]\n",
    "    x_train_size = len(x_train)\n",
    "    if(one_hot == True):\n",
    "        y_train = one_hot_(y_train)\n",
    "        y_test = one_hot_(y_test)\n",
    "    return (x_train, y_train),(x_test, y_test)\n",
    "\n",
    "def  next_batch(batch_size):\n",
    "    global batch_count\n",
    "    global x_train_size\n",
    "    global x_train\n",
    "    if(x_train_size == 0):\n",
    "        get_data()\n",
    "    if(batch_count + batch_size) >= x_train_size:\n",
    "        batch_count = 0\n",
    "    tmp=x_train[batch_count:batch_count + batch_size]\n",
    "    batch_count += batch_size\n",
    "    return tmp"
   ]
  },
  {
   "cell_type": "code",
   "execution_count": null,
   "metadata": {
    "id": "Bwq99PY4lvFY"
   },
   "outputs": [],
   "source": [
    "#https://github.com/mshaikh2/sagan\n",
    "from __future__ import absolute_import, division, print_function, unicode_literals\n",
    "from tensorflow.python.keras.layers import Dense, Conv2D, BatchNormalization, Conv2DTranspose, Flatten\n",
    "import tensorflow as tf\n",
    "import glob\n",
    "import imageio\n",
    "import matplotlib.pyplot as plt\n",
    "import numpy as np\n",
    "import os\n",
    "import PIL\n",
    "from tensorflow.keras import layers\n",
    "import time\n",
    "import math\n",
    "from IPython import display"
   ]
  },
  {
   "cell_type": "code",
   "execution_count": null,
   "metadata": {
    "colab": {
     "base_uri": "https://localhost:8080/",
     "height": 105
    },
    "id": "QCsCs0mGnKm2",
    "outputId": "ca6aa023-2939-4a49-bbb6-4fa04da35f47"
   },
   "outputs": [
    {
     "name": "stdout",
     "output_type": "stream",
     "text": [
      "daisy\n",
      "dandelion\n",
      "rose\n",
      "sunflower\n",
      "tulip\n"
     ]
    }
   ],
   "source": [
    "(x_train,y_train),(_,_)=get_data(format_size=32,normalize=False,one_hot=True)\n",
    "x_train = x_train/255.\n",
    "x_trian = x_train.astype(np.float64)\n",
    "y_train = y_train.astype(np.float64)\n",
    "x_train=x_train[:3328]\n",
    "y_train=y_train[:3328]"
   ]
  },
  {
   "cell_type": "code",
   "execution_count": null,
   "metadata": {
    "colab": {
     "base_uri": "https://localhost:8080/",
     "height": 125
    },
    "id": "-uQ5NJ8yVyEI",
    "outputId": "79ef17f6-0885-48b3-d07f-15579b85369f"
   },
   "outputs": [
    {
     "name": "stdout",
     "output_type": "stream",
     "text": [
      "Go to this URL in a browser: https://accounts.google.com/o/oauth2/auth?client_id=947318989803-6bn6qk8qdgf4n4g3pfee6491hc0brc4i.apps.googleusercontent.com&redirect_uri=urn%3aietf%3awg%3aoauth%3a2.0%3aoob&response_type=code&scope=email%20https%3a%2f%2fwww.googleapis.com%2fauth%2fdocs.test%20https%3a%2f%2fwww.googleapis.com%2fauth%2fdrive%20https%3a%2f%2fwww.googleapis.com%2fauth%2fdrive.photos.readonly%20https%3a%2f%2fwww.googleapis.com%2fauth%2fpeopleapi.readonly\n",
      "\n",
      "Enter your authorization code:\n",
      "··········\n",
      "Mounted at /content/drive\n"
     ]
    }
   ],
   "source": [
    "from google.colab import drive\n",
    "drive.mount('/content/drive')"
   ]
  },
  {
   "cell_type": "code",
   "execution_count": null,
   "metadata": {
    "id": "Atw1c_hjn3SJ"
   },
   "outputs": [],
   "source": [
    "BUFFER_SIZE = 60000\n",
    "BATCH_SIZE = 8\n",
    "train_dataset = tf.data.Dataset.from_tensor_slices((x_train,y_train)).shuffle(BUFFER_SIZE).batch(BATCH_SIZE)"
   ]
  },
  {
   "cell_type": "code",
   "execution_count": null,
   "metadata": {
    "id": "aQzWT5Qw7Lmy"
   },
   "outputs": [],
   "source": [
    "def cbn(channels,weight_init,x,z):\n",
    "    decay = 0.9\n",
    "    epsilon = 1e-05\n",
    "    test_mean = tf.Variable(tf.zeros([channels]), dtype=tf.float32, trainable=False)\n",
    "    test_var = tf.Variable(tf.ones([channels]), dtype=tf.float32, trainable=False)\n",
    "    beta0 = tf.keras.layers.Dense(units=channels, use_bias=True, kernel_initializer=weight_init, kernel_regularizer= None)(z)\n",
    "    gamma0 = tf.keras.layers.Dense(units=channels, use_bias=True, kernel_initializer=weight_init, kernel_regularizer= None)(z)\n",
    "    beta = tf.reshape(beta0, shape=[-1, 1, 1, channels])\n",
    "    gamma = tf.reshape(gamma0, shape=[-1, 1, 1, channels])\n",
    "\n",
    "    batch_mean, batch_var = tf.nn.moments(x, [0, 1, 2])\n",
    "    test_mean.assign(test_mean * decay + batch_mean * (1 - decay))\n",
    "    test_var.assign(test_var * decay + batch_var * (1 - decay))\n",
    "    return tf.nn.batch_normalization(x, batch_mean, batch_var, beta, gamma,epsilon)"
   ]
  },
  {
   "cell_type": "code",
   "execution_count": null,
   "metadata": {
    "id": "-ulQxtNQ7M3v"
   },
   "outputs": [],
   "source": [
    "def hw_flatten(x):\n",
    "    return tf.reshape(x, shape=[-1, x.get_shape().as_list()[1]*x.get_shape().as_list()[2], x.get_shape().as_list()[-1]])"
   ]
  },
  {
   "cell_type": "code",
   "execution_count": null,
   "metadata": {
    "id": "yKbf2SJ2oA8M"
   },
   "outputs": [],
   "source": [
    "def make_generator_model():\n",
    "\n",
    "    weight_init = tf.initializers.orthogonal()\n",
    "    ch=4*64\n",
    "    cont_noise=tf.keras.layers.Input(100)\n",
    "    label=tf.keras.layers.Input(5)\n",
    "    z_split = tf.split(cont_noise, num_or_size_splits=[25] * 4, axis=-1)\n",
    "    n_split_0 = z_split[0]\n",
    "    n_split_1 = z_split[1]\n",
    "    n_split_2 = z_split[2]\n",
    "    n_split_3 = z_split[3]\n",
    "    n_split_1 = tf.concat([z_split[1], label], axis=-1)\n",
    "    n_split_2 = tf.concat([z_split[2], label], axis=-1)\n",
    "    n_split_3 = tf.concat([z_split[3], label], axis=-1)\n",
    "    l1 = tf.keras.layers.Dense(4*4*ch,use_bias=True,kernel_initializer=weight_init,kernel_regularizer=None)(n_split_0)\n",
    "    l1 = tf.reshape(l1, shape=[-1, 4, 4, ch])  #[-1, 4, 4, 4*ch]\n",
    "    #res1\n",
    "    x=cbn(ch,weight_init,l1,n_split_1)\n",
    "    x=tf.nn.relu(x)\n",
    "    x=tf.keras.layers.UpSampling2D()(x)\n",
    "    x=tf.keras.layers.Conv2D(filters=ch,kernel_size=3,strides=1,padding='SAME',use_bias=False,kernel_initializer= weight_init,kernel_regularizer=None)(x)\n",
    "    x=cbn(ch,weight_init,x,n_split_1)\n",
    "    x=tf.nn.relu(x)\n",
    "    x=tf.keras.layers.Conv2D(filters=ch,kernel_size=3,strides=1,padding='SAME',use_bias=False,kernel_initializer= weight_init,kernel_regularizer=None)(x)\n",
    "    x_init=tf.keras.layers.UpSampling2D()(l1)\n",
    "    x_init=tf.keras.layers.Conv2D(filters=ch,kernel_size=1,strides=1,padding='SAME',use_bias=False,kernel_initializer= weight_init,kernel_regularizer=None)(x)\n",
    "    l2=x+x_init\n",
    "    #res2\n",
    "    x=cbn(ch//2 *2,weight_init,l2,n_split_2)\n",
    "    x=tf.nn.relu(x)\n",
    "    x=tf.keras.layers.UpSampling2D()(x)\n",
    "    x=tf.keras.layers.Conv2D(filters=ch//2,kernel_size=3,strides=1,padding='SAME',use_bias=False,kernel_initializer= weight_init,kernel_regularizer=None)(x)\n",
    "    x=cbn(ch//2,weight_init,x,n_split_2)\n",
    "    x=tf.nn.relu(x)\n",
    "    x=tf.keras.layers.Conv2D(filters=ch//2,kernel_size=3,strides=1,padding='SAME',use_bias=False,kernel_initializer= weight_init,kernel_regularizer=None)(x)\n",
    "    x_init=tf.keras.layers.UpSampling2D()(l2)\n",
    "    x_init=tf.keras.layers.Conv2D(filters=ch//2,kernel_size=1,strides=1,padding='SAME',use_bias=False,kernel_initializer= weight_init,kernel_regularizer=None)(x)\n",
    "    l3=x+x_init\n",
    "\n",
    "    #attention\n",
    "    print(l3.shape)\n",
    "    f=tf.keras.layers.Conv2D(filters=(ch//2)//8, kernel_size=1, strides=1, use_bias=True)(l3)\n",
    "    g=tf.keras.layers.Conv2D(filters=(ch//2)//8, kernel_size=1, strides=1, use_bias=True)(l3)\n",
    "    h=tf.keras.layers.Conv2D(filters=(ch//2)//8, kernel_size=1, strides=1, use_bias=True)(l3)\n",
    "    s = tf.matmul(hw_flatten(g), hw_flatten(f), transpose_b=True)\n",
    "    beta = tf.nn.softmax(s, axis=-1)\n",
    "    print(beta.shape)\n",
    "    print(hw_flatten(h).shape)\n",
    "    v = tf.matmul(beta, hw_flatten(h))\n",
    "    print(v.shape)\n",
    "    v = tf.reshape(v, shape=[-1,l3.shape[1],l3.shape[2],l3.shape[3]]) # [bs, h, w, C]\n",
    "    print(v.shape)\n",
    "    o = tf.keras.layers.Conv2D(filters=ch//2, kernel_size=1, strides=1, use_bias=True)(v)\n",
    "    print(o.shape)\n",
    "    gamma=tf.Variable(initial_value=[0], dtype=tf.float32, trainable=True)\n",
    "    l4 = gamma * o + l3\n",
    "\n",
    "    #res3\n",
    "    x=cbn(ch//4*2,weight_init,l4,n_split_3)\n",
    "    x=tf.nn.relu(x)\n",
    "    x=tf.keras.layers.UpSampling2D()(x)\n",
    "    x=tf.keras.layers.Conv2D(filters=ch//4,kernel_size=3,strides=1,padding='SAME',use_bias=False,kernel_initializer= weight_init,kernel_regularizer=None)(x)\n",
    "    x=cbn(ch//4,weight_init,x,n_split_3)\n",
    "    x=tf.nn.relu(x)\n",
    "    x=tf.keras.layers.Conv2D(filters=ch//4,kernel_size=3,strides=1,padding='SAME',use_bias=False,kernel_initializer= weight_init,kernel_regularizer=None)(x)\n",
    "    x_init=tf.keras.layers.UpSampling2D()(l4)\n",
    "    x_init=tf.keras.layers.Conv2D(filters=ch//4,kernel_size=1,strides=1,padding='SAME',use_bias=False,kernel_initializer= weight_init,kernel_regularizer=None)(x)\n",
    "    l5=x+x_init\n",
    "\n",
    "    l5=tf.keras.layers.BatchNormalization()(l5)\n",
    "    l5=tf.nn.relu(l5)\n",
    "\n",
    "    l7=Conv2DTranspose(filters=3,kernel_size=3,strides=1,padding='SAME',use_bias=False,kernel_initializer=weight_init,kernel_regularizer=None)(l5)\n",
    "    output=tf.nn.sigmoid(l7)\n",
    "\n",
    "    return tf.keras.Model(inputs=[cont_noise,label], outputs=output)"
   ]
  },
  {
   "cell_type": "code",
   "execution_count": null,
   "metadata": {
    "colab": {
     "base_uri": "https://localhost:8080/",
     "height": 122
    },
    "id": "3RQRJZ4zqR9s",
    "outputId": "7682b428-75e4-47de-b031-f32dadecae14"
   },
   "outputs": [
    {
     "name": "stdout",
     "output_type": "stream",
     "text": [
      "(None, 16, 16, 128)\n",
      "(None, 256, 256)\n",
      "(None, 256, 16)\n",
      "(None, 256, 16)\n",
      "(None, 16, 16, 128)\n",
      "(None, 16, 16, 128)\n"
     ]
    }
   ],
   "source": [
    "generator = make_generator_model()\n",
    "\n",
    "if os.path.isfile('./drive/My Drive/biggan_g.h5'):\n",
    "    try:\n",
    "        generator.load_weights('./drive/My Drive/biggan_g.h5', by_name=True)\n",
    "    except:\n",
    "        try:\n",
    "            generator.load_weights('./drive/My Drive/biggan_g2.h5',by_name=True)\n",
    "    except:\n",
    "        print(\"cannt load g\")\n",
    "else:\n",
    "    print(\"not find g\")"
   ]
  },
  {
   "cell_type": "code",
   "execution_count": null,
   "metadata": {
    "colab": {
     "base_uri": "https://localhost:8080/",
     "height": 353
    },
    "id": "q0Uv-IDr7iBg",
    "outputId": "fe2c0e82-0a55-4260-b8fe-f7ed91406176"
   },
   "outputs": [
    {
     "name": "stdout",
     "output_type": "stream",
     "text": [
      "(8, 100)\n",
      "(8, 5)\n"
     ]
    },
    {
     "name": "stderr",
     "output_type": "stream",
     "text": [
      "Clipping input data to the valid range for imshow with RGB data ([0..1] for floats or [0..255] for integers).\n"
     ]
    },
    {
     "name": "stdout",
     "output_type": "stream",
     "text": [
      "(8, 32, 32, 3)\n"
     ]
    },
    {
     "data": {
      "text/plain": [
       "<matplotlib.image.AxesImage at 0x7f8a2c17e7f0>"
      ]
     },
     "execution_count": 10,
     "metadata": {
      "tags": []
     },
     "output_type": "execute_result"
    },
    {
     "data": {
      "image/png": "[encoded data removed]",
      "text/plain": [
       "<Figure size 432x288 with 1 Axes>"
      ]
     },
     "metadata": {
      "needs_background": "light",
      "tags": []
     },
     "output_type": "display_data"
    }
   ],
   "source": [
    "noise = tf.random.normal([8, 100])\n",
    "y = tf.convert_to_tensor([[0.,0.,0.,0.,1.], [0.,0.,0.,0.,1.], [0.,0.,0.,0.,1.], [0.,0.,0.,0.,1.], [0.,0.,0.,0.,1.], [0.,0.,0.,0.,1.], [0.,0.,0.,0.,1.], [0.,0.,0.,0.,1.]])\n",
    "print(noise.shape)\n",
    "print(y.shape)\n",
    "generated_image = generator([noise,y], training=False)\n",
    "print(generated_image.shape)\n",
    "plt.imshow(generated_image[0, :, :, :]* 255)"
   ]
  },
  {
   "cell_type": "code",
   "execution_count": null,
   "metadata": {
    "id": "SuSTR1P4qVxn"
   },
   "outputs": [],
   "source": [
    "def make_discriminator_model():\n",
    "    input_1=layers.Input((32,32,3))\n",
    "    input_2=layers.Input(5)\n",
    "\n",
    "    f = layers.Conv2D(3,kernel_size=(1,1),strides=(1, 1), padding='same')(input_1)  # [bs, h, w, c']\n",
    "    g = layers.Conv2D(3,kernel_size=(1,1),strides=(1, 1), padding='same')(input_1)  # [bs, h, w, c']\n",
    "    h = layers.Conv2D(3,kernel_size=(1,1),strides=(1, 1), padding='same')(input_1)  # [bs, h, w, c]\n",
    "    s=tf.matmul(layers.Reshape((1024,3))(f),layers.Reshape((1024,3))(g), transpose_b=True)\n",
    "    s=tf.nn.softmax(s,axis=-1)\n",
    "    o=tf.keras.backend.batch_dot(s,layers.Reshape((1024,3))(h))\n",
    "    o=layers.Reshape((32,32,3))(o)\n",
    "    gamma=tf.Variable(initial_value=0, trainable=True, dtype=tf.float32)\n",
    "    x =  gamma * o + input_1\n",
    "\n",
    "    x=layers.Conv2D(64*3, (5, 5), strides=(2, 2), padding='same')(x)\n",
    "    x=layers.LeakyReLU()(x)\n",
    "    x=layers.Dropout(0.3)(x)\n",
    "\n",
    "    x=layers.Conv2D(128*3, (5, 5), strides=(2, 2), padding='same')(x)\n",
    "    x=layers.LeakyReLU()(x)\n",
    "    x=layers.Dropout(0.3)(x)\n",
    "\n",
    "    x_pot=layers.Flatten()(x)\n",
    "    x_1=layers.Dense(5)(x_pot)\n",
    "    x_1=tf.multiply(x_1,input_2)\n",
    "    x_1=tf.math.reduce_sum(x_1,1)\n",
    "    x_2=layers.Dense(1)(x_pot)\n",
    "    x = layers.add([x_1, x_2])\n",
    "  \n",
    "    x=layers.Dense(1)(x_pot)\n",
    "    return tf.keras.Model(inputs=[input_1, input_2], outputs=x)"
   ]
  },
  {
   "cell_type": "code",
   "execution_count": null,
   "metadata": {
    "colab": {
     "base_uri": "https://localhost:8080/",
     "height": 175
    },
    "id": "tPoJCrOUtIVh",
    "outputId": "8d581eb6-877a-45d3-b424-fc2bdb0da8ac"
   },
   "outputs": [
    {
     "name": "stdout",
     "output_type": "stream",
     "text": [
      "tf.Tensor(\n",
      "[[ 0.02628841]\n",
      " [ 0.04293406]\n",
      " [ 0.01981193]\n",
      " [ 0.01185709]\n",
      " [ 0.01729838]\n",
      " [ 0.02372369]\n",
      " [-0.02505201]\n",
      " [-0.00651292]], shape=(8, 1), dtype=float32)\n"
     ]
    }
   ],
   "source": [
    "discriminator = make_discriminator_model()\n",
    "print(discriminator([generated_image,y]))\n",
    "\n",
    "if os.path.isfile('./drive/My Drive/biggan_d.h5'):\n",
    "    try:\n",
    "        discriminator.load_weights('./drive/My Drive/biggan_d.h5')\n",
    "    except:\n",
    "        try:\n",
    "            discriminator.load_weights('./drive/My Drive/biggan_d2.h5')\n",
    "        except:\n",
    "            print(\"cannt load d\")\n",
    "else:\n",
    "    print(\"no find d\")"
   ]
  },
  {
   "cell_type": "code",
   "execution_count": null,
   "metadata": {
    "colab": {
     "base_uri": "https://localhost:8080/",
     "height": 980
    },
    "id": "ISfmSmNNHyiF",
    "outputId": "1acdf76c-6cc5-4bf5-afc5-357c8a7f16dc",
    "scrolled": true
   },
   "outputs": [
    {
     "name": "stdout",
     "output_type": "stream",
     "text": [
      "Model: \"model_1\"\n",
      "__________________________________________________________________________________________________\n",
      "Layer (type)                    Output Shape         Param #     Connected to                     \n",
      "==================================================================================================\n",
      "input_3 (InputLayer)            [(None, 32, 32, 3)]  0                                            \n",
      "__________________________________________________________________________________________________\n",
      "conv2d_13 (Conv2D)              (None, 32, 32, 3)    12          input_3[0][0]                    \n",
      "__________________________________________________________________________________________________\n",
      "conv2d_14 (Conv2D)              (None, 32, 32, 3)    12          input_3[0][0]                    \n",
      "__________________________________________________________________________________________________\n",
      "reshape (Reshape)               (None, 1024, 3)      0           conv2d_13[0][0]                  \n",
      "__________________________________________________________________________________________________\n",
      "reshape_1 (Reshape)             (None, 1024, 3)      0           conv2d_14[0][0]                  \n",
      "__________________________________________________________________________________________________\n",
      "tf_op_layer_BatchMatMulV2_2 (Te [(None, 1024, 1024)] 0           reshape[0][0]                    \n",
      "                                                                 reshape_1[0][0]                  \n",
      "__________________________________________________________________________________________________\n",
      "conv2d_15 (Conv2D)              (None, 32, 32, 3)    12          input_3[0][0]                    \n",
      "__________________________________________________________________________________________________\n",
      "tf_op_layer_Softmax_1 (TensorFl [(None, 1024, 1024)] 0           tf_op_layer_BatchMatMulV2_2[0][0]\n",
      "__________________________________________________________________________________________________\n",
      "reshape_2 (Reshape)             (None, 1024, 3)      0           conv2d_15[0][0]                  \n",
      "__________________________________________________________________________________________________\n",
      "tf_op_layer_BatchMatMulV2_3 (Te [(None, 1024, 3)]    0           tf_op_layer_Softmax_1[0][0]      \n",
      "                                                                 reshape_2[0][0]                  \n",
      "__________________________________________________________________________________________________\n",
      "reshape_3 (Reshape)             (None, 32, 32, 3)    0           tf_op_layer_BatchMatMulV2_3[0][0]\n",
      "__________________________________________________________________________________________________\n",
      "tf_op_layer_Mul_31 (TensorFlowO [(None, 32, 32, 3)]  0           reshape_3[0][0]                  \n",
      "__________________________________________________________________________________________________\n",
      "tf_op_layer_AddV2_28 (TensorFlo [(None, 32, 32, 3)]  0           tf_op_layer_Mul_31[0][0]         \n",
      "                                                                 input_3[0][0]                    \n",
      "__________________________________________________________________________________________________\n",
      "conv2d_16 (Conv2D)              (None, 16, 16, 192)  14592       tf_op_layer_AddV2_28[0][0]       \n",
      "__________________________________________________________________________________________________\n",
      "leaky_re_lu (LeakyReLU)         (None, 16, 16, 192)  0           conv2d_16[0][0]                  \n",
      "__________________________________________________________________________________________________\n",
      "dropout (Dropout)               (None, 16, 16, 192)  0           leaky_re_lu[0][0]                \n",
      "__________________________________________________________________________________________________\n",
      "conv2d_17 (Conv2D)              (None, 8, 8, 384)    1843584     dropout[0][0]                    \n",
      "__________________________________________________________________________________________________\n",
      "leaky_re_lu_1 (LeakyReLU)       (None, 8, 8, 384)    0           conv2d_17[0][0]                  \n",
      "__________________________________________________________________________________________________\n",
      "dropout_1 (Dropout)             (None, 8, 8, 384)    0           leaky_re_lu_1[0][0]              \n",
      "__________________________________________________________________________________________________\n",
      "flatten (Flatten)               (None, 24576)        0           dropout_1[0][0]                  \n",
      "__________________________________________________________________________________________________\n",
      "input_4 (InputLayer)            [(None, 5)]          0                                            \n",
      "__________________________________________________________________________________________________\n",
      "dense_15 (Dense)                (None, 1)            24577       flatten[0][0]                    \n",
      "==================================================================================================\n",
      "Total params: 1,882,789\n",
      "Trainable params: 1,882,789\n",
      "Non-trainable params: 0\n",
      "__________________________________________________________________________________________________\n"
     ]
    }
   ],
   "source": [
    "discriminator.summary()"
   ]
  },
  {
   "cell_type": "code",
   "execution_count": null,
   "metadata": {
    "id": "bAuNRnav138q"
   },
   "outputs": [],
   "source": [
    "cross_entropy = tf.keras.losses.BinaryCrossentropy(from_logits=True)"
   ]
  },
  {
   "cell_type": "code",
   "execution_count": null,
   "metadata": {
    "id": "-N-ndvTz9rDN"
   },
   "outputs": [],
   "source": [
    "def discriminator_loss(real_output, fake_output):\n",
    "    real_loss = tf.math.maximum(0.,tf.reduce_mean(tf.ones_like(real_output) - real_output))\n",
    "    fake_loss = tf.math.maximum(0.,tf.reduce_mean(tf.ones_like(fake_output) + fake_output))\n",
    "    total_loss = real_loss + fake_loss\n",
    "    return total_loss"
   ]
  },
  {
   "cell_type": "code",
   "execution_count": null,
   "metadata": {
    "id": "-k2Qw78_9sQf"
   },
   "outputs": [],
   "source": [
    "def generator_loss(fake_output):\n",
    "    return -tf.reduce_mean(fake_output)"
   ]
  },
  {
   "cell_type": "code",
   "execution_count": null,
   "metadata": {
    "id": "FoCTyVgk9tmf"
   },
   "outputs": [],
   "source": [
    "generator_optimizer = tf.keras.optimizers.Adam(2e-4)\n",
    "discriminator_optimizer = tf.keras.optimizers.Adam(2e-4)"
   ]
  },
  {
   "cell_type": "code",
   "execution_count": null,
   "metadata": {
    "colab": {
     "base_uri": "https://localhost:8080/",
     "height": 35
    },
    "id": "v3jl-VFv9vHw",
    "outputId": "8173f660-4912-4854-fd97-f792f4beb992"
   },
   "outputs": [
    {
     "name": "stdout",
     "output_type": "stream",
     "text": [
      "(8, 100)\n"
     ]
    }
   ],
   "source": [
    "EPOCHS = 100000\n",
    "noise_dim = 100\n",
    "num_examples_to_generate = 8\n",
    "global label_batch_g\n",
    "seed = tf.random.normal([num_examples_to_generate, noise_dim])\n",
    "print(seed.shape)"
   ]
  },
  {
   "cell_type": "code",
   "execution_count": null,
   "metadata": {
    "id": "kodVwQaY9ylS"
   },
   "outputs": [],
   "source": [
    "def train_step(images,labels):\n",
    "    noise = tf.random.normal([BATCH_SIZE, noise_dim])\n",
    "    labels = tf.convert_to_tensor(labels)\n",
    "    labels = tf.cast(labels,dtype=tf.float32)\n",
    "    with tf.GradientTape() as gen_tape, tf.GradientTape() as disc_tape:\n",
    "        \n",
    "        generated_images = generator([noise,labels], training=True)\n",
    "        fake_output = discriminator([generated_images,labels], training=True)\n",
    "\n",
    "        gen_loss = generator_loss(fake_output)\n",
    "\n",
    "    gradients_of_generator = gen_tape.gradient(gen_loss, generator.trainable_variables)\n",
    "\n",
    "    generator_optimizer.apply_gradients(zip(gradients_of_generator, generator.trainable_variables))\n",
    "    with tf.GradientTape() as gen_tape, tf.GradientTape() as disc_tape:\n",
    "        \n",
    "        generated_images = generator([noise,labels], training=True)\n",
    "        real_output = discriminator([images,labels], training=True)\n",
    "        fake_output = discriminator([generated_images,labels], training=True)\n",
    "\n",
    "        gen_loss = generator_loss(fake_output)\n",
    "        disc_loss = discriminator_loss(real_output, fake_output)\n",
    "\n",
    "    gradients_of_generator = gen_tape.gradient(gen_loss, generator.trainable_variables)\n",
    "    gradients_of_discriminator = disc_tape.gradient(disc_loss, discriminator.trainable_variables)\n",
    "\n",
    "    generator_optimizer.apply_gradients(zip(gradients_of_generator, generator.trainable_variables))\n",
    "    discriminator_optimizer.apply_gradients(zip(gradients_of_discriminator, discriminator.trainable_variables))"
   ]
  },
  {
   "cell_type": "code",
   "execution_count": null,
   "metadata": {
    "id": "qxhyKlUU90gn"
   },
   "outputs": [],
   "source": [
    "def train(dataset, epochs):\n",
    "    global label_batch_g\n",
    "    generate_and_save_images(generator,\n",
    "                 0,\n",
    "                 seed,seed_)\n",
    "    for epoch in range(epochs):\n",
    "        start = time.time()\n",
    "        for image_batch,label_batch in dataset:\n",
    "            label_batch_g=label_batch\n",
    "            train_step(image_batch,label_batch)\n",
    "\n",
    "        if (epoch + 1) % 10 == 0:\n",
    "            display.clear_output(wait=True)\n",
    "            predictions = generator([seed,seed_], training=False)\n",
    "\n",
    "            fig = plt.figure(figsize=(5,5))\n",
    "\n",
    "            for i in range(predictions.shape[0]):\n",
    "                plt.subplot(4, 2, i+1)\n",
    "                plt.imshow(tf.dtypes.cast(predictions[i, :, :, :]* 255, tf.int32)  , cmap='gray')\n",
    "                plt.axis('off')\n",
    "\n",
    "            plt.show()\n",
    "            generator.save_weights('./drive/My Drive/biggan_g.h5')\n",
    "            discriminator.save_weights('./drive/My Drive/biggan_d.h5')\n",
    "            if (epoch + 1) % 100 == 0:\n",
    "                generator.save_weights('./drive/My Drive/biggan_g2.h5')\n",
    "                discriminator.save_weights('./drive/My Drive/biggan_d2.h5')\n",
    "        print ('Time for epoch {} is {} sec'.format(epoch + 1, time.time()-start))\n",
    "\n",
    "    display.clear_output(wait=True)\n",
    "    generate_and_save_images(generator,\n",
    "                           epochs,\n",
    "                           seed,seed_)"
   ]
  },
  {
   "cell_type": "code",
   "execution_count": null,
   "metadata": {
    "id": "B5wxHdIH924w"
   },
   "outputs": [],
   "source": [
    "def generate_and_save_images(model, epoch, seed,label):\n",
    "    predictions = model([seed,label], training=False)\n",
    "    fig = plt.figure(figsize=(5,5))\n",
    "    for i in range(predictions.shape[0]):\n",
    "        plt.subplot(4, 2, i+1)\n",
    "        plt.imshow(tf.dtypes.cast(predictions[i, :, :, :]* 255, tf.int32)  , cmap='gray')\n",
    "        plt.axis('off')\n",
    "    plt.show()"
   ]
  },
  {
   "cell_type": "code",
   "execution_count": null,
   "metadata": {
    "colab": {
     "base_uri": "https://localhost:8080/",
     "height": 477
    },
    "id": "AJoXmL7i94mi",
    "outputId": "9dad083a-0dcc-4549-c1b3-359346fd7025"
   },
   "outputs": [
    {
     "data": {
      "image/png": "[encoded data removed]",
      "text/plain": [
       "<Figure size 360x360 with 8 Axes>"
      ]
     },
     "metadata": {
      "needs_background": "light",
      "tags": []
     },
     "output_type": "display_data"
    },
    {
     "name": "stdout",
     "output_type": "stream",
     "text": [
      "Time for epoch 200 is 179.81595587730408 sec\n",
      "Time for epoch 201 is 170.97759079933167 sec\n",
      "Time for epoch 202 is 168.92389106750488 sec\n",
      "Time for epoch 203 is 170.32836627960205 sec\n",
      "Time for epoch 204 is 167.27106261253357 sec\n",
      "Time for epoch 205 is 168.07050156593323 sec\n",
      "Time for epoch 206 is 168.48522067070007 sec\n",
      "Time for epoch 207 is 181.4964017868042 sec\n",
      "Time for epoch 208 is 176.18541884422302 sec\n",
      "Time for epoch 209 is 176.7530665397644 sec\n"
     ]
    }
   ],
   "source": [
    "train(train_dataset, EPOCHS)"
   ]
  },
  {
   "cell_type": "code",
   "execution_count": null,
   "metadata": {
    "id": "1ccaxGfSTTSf"
   },
   "outputs": [],
   "source": []
  }
 ],
 "metadata": {
  "accelerator": "GPU",
  "colab": {
   "collapsed_sections": [],
   "name": "biggan_test2.ipynb",
   "provenance": []
  },
  "kernelspec": {
   "display_name": "Python 3",
   "language": "python",
   "name": "python3"
  },
  "language_info": {
   "codemirror_mode": {
    "name": "ipython",
    "version": 3
   },
   "file_extension": ".py",
   "mimetype": "text/x-python",
   "name": "python",
   "nbconvert_exporter": "python",
   "pygments_lexer": "ipython3",
   "version": "3.7.3"
  }
 },
 "nbformat": 4,
 "nbformat_minor": 1
}
