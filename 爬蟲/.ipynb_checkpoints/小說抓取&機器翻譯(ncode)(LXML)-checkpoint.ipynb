{
 "cells": [
  {
   "cell_type": "code",
   "execution_count": 1,
   "metadata": {
    "id": "P7ed6AtN8b2b"
   },
   "outputs": [],
   "source": [
    "import time\n",
    "import web_crawler\n",
    "from google_trans_new import google_translator\n",
    "from IPython.display import clear_output"
   ]
  },
  {
   "cell_type": "code",
   "execution_count": 2,
   "metadata": {},
   "outputs": [],
   "source": [
    "url = \"https://ncode.syosetu.com/n0637gi/\"\n",
    "name = \"万能「村づくり」チートでお手軽スローライフ　～村ですが何か？～\""
   ]
  },
  {
   "cell_type": "code",
   "execution_count": 3,
   "metadata": {
    "colab": {
     "base_uri": "https://localhost:8080/"
    },
    "id": "wY9MDihV88pM",
    "outputId": "a70c2577-4f39-4a44-f040-4861aa6dca05"
   },
   "outputs": [
    {
     "name": "stdout",
     "output_type": "stream",
     "text": [
      "258\n"
     ]
    }
   ],
   "source": [
    "#抓取資料\n",
    "def get_context(url,start=1, sleep_time=0.5):\n",
    "    wc = web_crawler.web_crawler()\n",
    "    headers = wc.headers\n",
    "    out_str = \"\"\n",
    "    index = start\n",
    "    out_tmp = \"init\"\n",
    "    while(True):\n",
    "        time.sleep(sleep_time)\n",
    "        clear_output(wait = True)\n",
    "        print(index)\n",
    "        #抓不到內容時跳出\n",
    "        if(out_tmp == \"\"):\n",
    "            break \n",
    "        #製作網址\n",
    "        url_inp = url + str(index)\n",
    "        #抓取網頁\n",
    "        html = wc.get_etree(url_inp)\n",
    "        #處理網頁內容\n",
    "        out_tmp = \"\"\n",
    "        for i in html.xpath('//*[@id=\"novel_color\"]//text()'):\n",
    "            if(\"\\u3000\" in i):\n",
    "                out_tmp+=i.replace(\"\\u3000\",\"\")+\"\\n\"\n",
    "        #輸出\n",
    "        out_str += out_tmp\n",
    "        index += 1\n",
    "    return out_str\n",
    "#執行\n",
    "data = get_context(url)\n",
    "#寫入檔案\n",
    "with open(name + \".txt\",\"w\", encoding=\"UTF-8\") as w:\n",
    "    w.write(data)"
   ]
  },
  {
   "cell_type": "code",
   "execution_count": 5,
   "metadata": {},
   "outputs": [],
   "source": [
    "zh_out = []\n",
    "for i in data.split(\"\\n\"):\n",
    "    clear_output(wait=True)\n",
    "    time.sleep(2)\n",
    "    translator = google_translator()\n",
    "    try:\n",
    "        translate_text = translator.translate(i,lang_tgt='zh')\n",
    "    except:\n",
    "        translate_text = \"\"\n",
    "    zh_out.append(translate_text)\n",
    "\n",
    "#寫入資料夾\n",
    "with open(name + \"_機翻.txt\",\"w\", encoding=\"UTF-8\") as w:\n",
    "    w.write(\"\\n\".join(zh_out))"
   ]
  },
  {
   "cell_type": "code",
   "execution_count": null,
   "metadata": {},
   "outputs": [],
   "source": []
  }
 ],
 "metadata": {
  "colab": {
   "collapsed_sections": [],
   "name": "ncode小說爬蟲.ipynb",
   "provenance": []
  },
  "kernelspec": {
   "display_name": "Python 3",
   "language": "python",
   "name": "python3"
  },
  "language_info": {
   "codemirror_mode": {
    "name": "ipython",
    "version": 3
   },
   "file_extension": ".py",
   "mimetype": "text/x-python",
   "name": "python",
   "nbconvert_exporter": "python",
   "pygments_lexer": "ipython3",
   "version": "3.7.3"
  }
 },
 "nbformat": 4,
 "nbformat_minor": 1
}
