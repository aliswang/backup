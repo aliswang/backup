{
 "cells": [
  {
   "cell_type": "code",
   "execution_count": 1,
   "metadata": {
    "scrolled": true
   },
   "outputs": [],
   "source": [
    "#非自創\n",
    "#來源:#https://github.com/guchenghao/MSBD_5002-Assignment/blob/master/A1_cguac_20527420/A1_cguac_20527420_Q2_code/FP_tree.py\n",
    "from fp_tree import Fp_growth"
   ]
  },
  {
   "cell_type": "code",
   "execution_count": 2,
   "metadata": {
    "scrolled": true
   },
   "outputs": [
    {
     "name": "stdout",
     "output_type": "stream",
     "text": [
      "總計:  59800\n",
      "time: "
     ]
    },
    {
     "name": "stderr",
     "output_type": "stream",
     "text": [
      "C:\\Users\\Acer\\test\\處理資料夾\\資料處理\\FP_tree\\fp_tree.py:415: FutureWarning: The signature of `Series.to_csv` was aligned to that of `DataFrame.to_csv`, and argument 'header' will change its default value from False to True: please pass an explicit value to suppress this warning.\n",
      "  freqItems_csv.to_csv(out_filename, index=False)\n"
     ]
    },
    {
     "name": "stdout",
     "output_type": "stream",
     "text": [
      " 3.796933889389038\n"
     ]
    }
   ],
   "source": [
    "minsup = 4\n",
    "filename = \"./data/T10I10N0.1KD1K.txt\"\n",
    "sent_filename = \"./T10I10N0.1KD1K_output.txt\"\n",
    "Fp_growth(minsup, filename, sent_filename)"
   ]
  },
  {
   "cell_type": "code",
   "execution_count": null,
   "metadata": {},
   "outputs": [],
   "source": []
  }
 ],
 "metadata": {
  "kernelspec": {
   "display_name": "Python 3",
   "language": "python",
   "name": "python3"
  },
  "language_info": {
   "codemirror_mode": {
    "name": "ipython",
    "version": 3
   },
   "file_extension": ".py",
   "mimetype": "text/x-python",
   "name": "python",
   "nbconvert_exporter": "python",
   "pygments_lexer": "ipython3",
   "version": "3.7.3"
  }
 },
 "nbformat": 4,
 "nbformat_minor": 2
}
