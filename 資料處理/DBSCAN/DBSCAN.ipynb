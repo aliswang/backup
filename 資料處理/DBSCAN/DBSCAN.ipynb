{
 "cells": [
  {
   "cell_type": "code",
   "execution_count": 10,
   "metadata": {},
   "outputs": [],
   "source": [
    "%matplotlib inline\n",
    "from matplotlib import pyplot as plt\n",
    "import numpy as np\n",
    "import math\n",
    "import cv2\n",
    "from copy import deepcopy\n",
    "import random\n",
    "from PIL import Image"
   ]
  },
  {
   "cell_type": "code",
   "execution_count": 11,
   "metadata": {},
   "outputs": [],
   "source": [
    "global visited_list\n",
    "global C_list\n",
    "global dataset\n",
    "#灰點去除\n",
    "#存入整列\n",
    "def img_format(img_path, img_size=64):\n",
    "    img = plt.imread(img_path)\n",
    "    out_img = []\n",
    "    out_label = []\n",
    "    for i in range(len(img)):\n",
    "        tmp = []\n",
    "        for j in range(len(img[i])):\n",
    "            if(int(img[i][j][0]) > 127):\n",
    "                tmp.append([255, 255, 255])\n",
    "            else:\n",
    "                tmp.append([0, 0, 0])\n",
    "                out_label.append([i, j])\n",
    "        out_img.append(tmp)            \n",
    "    return out_img,out_label"
   ]
  },
  {
   "cell_type": "code",
   "execution_count": 12,
   "metadata": {},
   "outputs": [
    {
     "data": {
      "text/plain": [
       "<matplotlib.image.AxesImage at 0x7f95f422e240>"
      ]
     },
     "execution_count": 12,
     "metadata": {},
     "output_type": "execute_result"
    },
    {
     "data": {
      "image/png": "[encoded data removed]",
      "text/plain": [
       "<Figure size 720x288 with 2 Axes>"
      ]
     },
     "metadata": {
      "needs_background": "light"
     },
     "output_type": "display_data"
    }
   ],
   "source": [
    "out_img1,out_label1=img_format(\"Demo1.bmp\")\n",
    "out_img2,out_label2=img_format(\"Demo2.bmp\")\n",
    "f, a = plt.subplots(1, 2, figsize=(10, 4))\n",
    "a[0].imshow(out_img1)\n",
    "a[1].imshow(out_img2)"
   ]
  },
  {
   "cell_type": "code",
   "execution_count": 13,
   "metadata": {},
   "outputs": [],
   "source": [
    "color=[[255,0,0],[0,255,0],[0,0,255],[255,255,0],[0,255,255],[255,0,255],\\\n",
    "       [0,127,127],[127,0,127],[127,127,0],[0,127,127],\\\n",
    "      [127,0,127],[0,127,127]]\n",
    "for i in range(800):\n",
    "    r=random.randint(0,255)\n",
    "    g=random.randint(0,255)\n",
    "    b=random.randint(0,255)\n",
    "    color.append([r,g,b])"
   ]
  },
  {
   "cell_type": "code",
   "execution_count": 14,
   "metadata": {},
   "outputs": [],
   "source": [
    "def draw(clabel, out_label, img):\n",
    "    out_img=deepcopy(img)\n",
    "    for i in range(len(clabel)):\n",
    "        x, y = out_label[i]\n",
    "        if(clabel[i] == -1):\n",
    "            out_img[x][y]=[255, 255, 255]\n",
    "        else:\n",
    "            out_img[x][y]=color[clabel[i]]\n",
    "    return out_img"
   ]
  },
  {
   "cell_type": "code",
   "execution_count": 6,
   "metadata": {},
   "outputs": [],
   "source": [
    "def dist(a, b):\n",
    "    return math.pow(math.pow(a[0] - b[0], 2)+math.pow(a[1] - b[1], 2), 0.5)"
   ]
  },
  {
   "cell_type": "code",
   "execution_count": 7,
   "metadata": {},
   "outputs": [],
   "source": [
    "def My_DBSCAN(out_label, eps, MinPts):\n",
    "    global visited_list\n",
    "    global C_list\n",
    "    global dataset\n",
    "    dataset = out_label\n",
    "    visited_list = list(np.zeros(len(dataset)))\n",
    "    C_list = []\n",
    "    dic = {}\n",
    "    for i in range(len(dataset)):\n",
    "        if (visited_list[i] == 1):\n",
    "            pass\n",
    "        else:\n",
    "            c = 0\n",
    "            for j in range(len(dataset)):\n",
    "                if(visited_list[j] == 0 and eps >= dist(dataset[i], dataset[j])):\n",
    "                    c = c + 1\n",
    "            if(c >= MinPts):\n",
    "                visited_list[i] = 1\n",
    "                dic[i] = list()\n",
    "                dic[i].append(i)\n",
    "                find_all_point(i, eps, MinPts)\n",
    "                dic[i].extend(C_list)\n",
    "                C_list=[]\n",
    "    out_list = list(np.full(len(dataset), -1))\n",
    "    for i in range(len(dic.keys())):\n",
    "        for j in dic[list(dic.keys())[i]]:\n",
    "            out_list[j]=i\n",
    "    return out_list"
   ]
  },
  {
   "cell_type": "code",
   "execution_count": 8,
   "metadata": {},
   "outputs": [],
   "source": [
    "def find_all_point(i,eps, MinPts):\n",
    "    global visited_list\n",
    "    global C_list\n",
    "    global dataset\n",
    "    i_list = []\n",
    "    visited_list[i] = 1\n",
    "    for j in range(len(dataset)):\n",
    "        point_eps = dist(dataset[i], dataset[j])\n",
    "        if(point_eps <= eps):\n",
    "            i_list.append(j)\n",
    "    if(len(i_list) >= MinPts):\n",
    "        for i in range(len(visited_list)):\n",
    "            if(i in i_list and visited_list[i] == 1):\n",
    "                i_list.remove(i)\n",
    "        C_list.extend(i_list)\n",
    "        for k in i_list:\n",
    "            find_all_point(k,eps, MinPts)"
   ]
  },
  {
   "cell_type": "code",
   "execution_count": 52,
   "metadata": {},
   "outputs": [
    {
     "name": "stdout",
     "output_type": "stream",
     "text": [
      "1_1_5_共計4群.bmp\n",
      "1_1_7_共計-1群.bmp\n",
      "1_3_5_共計3群.bmp\n",
      "1_5_35_共計3群.bmp\n",
      "2_1_5_共計58群.bmp\n",
      "2_1_7_共計-1群.bmp\n",
      "2_3_5_共計52群.bmp\n",
      "2_5_35_共計36群.bmp\n"
     ]
    },
    {
     "data": {
      "image/png": "[encoded data removed]",
      "text/plain": [
       "<Figure size 720x288 with 8 Axes>"
      ]
     },
     "metadata": {
      "needs_background": "light"
     },
     "output_type": "display_data"
    }
   ],
   "source": [
    "clustering11=My_DBSCAN(out_label1, 1, 5)\n",
    "clustering12=My_DBSCAN(out_label1, 1, 7)\n",
    "clustering13=My_DBSCAN(out_label1, 3, 5)\n",
    "clustering14=My_DBSCAN(out_label1, 5, 35)\n",
    "clustering21=My_DBSCAN(out_label2, 1, 5)\n",
    "clustering22=My_DBSCAN(out_label2, 1, 7)\n",
    "clustering23=My_DBSCAN(out_label2, 3, 5)\n",
    "clustering24=My_DBSCAN(out_label2, 5, 35)\n",
    "f, a = plt.subplots(2, 4, figsize=(10, 4))\n",
    "a[0][0].imshow(draw(clustering11, out_label1, out_img1))\n",
    "im=Image.fromarray(np.asarray(draw(clustering11, out_label1, out_img1)).astype(np.uint8))\n",
    "file_name = \"1_1_5_共計\" + str(max(clustering11)) + \"群.bmp\"\n",
    "im.save(file_name)\n",
    "print(file_name)\n",
    "a[0][1].imshow(draw(clustering12, out_label1, out_img1))\n",
    "im=Image.fromarray(np.asarray(draw(clustering12, out_label1, out_img1)).astype(np.uint8))\n",
    "file_name = \"1_1_7_共計\" + str(max(clustering12)) + \"群.bmp\"\n",
    "im.save(file_name)\n",
    "print(file_name)\n",
    "a[0][2].imshow(draw(clustering13, out_label1, out_img1))\n",
    "im=Image.fromarray(np.asarray(draw(clustering13, out_label1, out_img1)).astype(np.uint8))\n",
    "file_name = \"1_3_5_共計\" + str(max(clustering13)) + \"群.bmp\"\n",
    "im.save(file_name)\n",
    "print(file_name)\n",
    "a[0][3].imshow(draw(clustering14, out_label1, out_img1))\n",
    "im=Image.fromarray(np.asarray(draw(clustering14, out_label1, out_img1)).astype(np.uint8))\n",
    "file_name = \"1_5_35_共計\" + str(max(clustering14)) + \"群.bmp\"\n",
    "im.save(file_name)\n",
    "print(file_name)\n",
    "a[1][0].imshow(draw(clustering21, out_label2, out_img2))\n",
    "im=Image.fromarray(np.asarray(draw(clustering21, out_label2, out_img2)).astype(np.uint8))\n",
    "file_name = \"2_1_5_共計\" + str(max(clustering21)) + \"群.bmp\"\n",
    "im.save(file_name)\n",
    "print(file_name)\n",
    "a[1][1].imshow(draw(clustering22, out_label2, out_img2))\n",
    "im=Image.fromarray(np.asarray(draw(clustering22, out_label2, out_img2)).astype(np.uint8))\n",
    "file_name = \"2_1_7_共計\" + str(max(clustering22)) + \"群.bmp\"\n",
    "im.save(file_name)\n",
    "print(file_name)\n",
    "a[1][2].imshow(draw(clustering23, out_label2, out_img2))\n",
    "im=Image.fromarray(np.asarray(draw(clustering23, out_label2, out_img2)).astype(np.uint8))\n",
    "file_name = \"2_3_5_共計\" + str(max(clustering23)) + \"群.bmp\"\n",
    "im.save(file_name)\n",
    "print(file_name)\n",
    "a[1][3].imshow(draw(clustering24, out_label2, out_img2))\n",
    "im=Image.fromarray(np.asarray(draw(clustering24, out_label2, out_img2)).astype(np.uint8))\n",
    "file_name = \"2_5_35_共計\" + str(max(clustering24)) + \"群.bmp\"\n",
    "im.save(file_name)\n",
    "print(file_name)\n",
    "plt.savefig(\"123.jpg\")"
   ]
  },
  {
   "cell_type": "code",
   "execution_count": 1,
   "metadata": {},
   "outputs": [
    {
     "data": {
      "text/plain": [
       "array([ 0,  0,  0,  1,  1, -1], dtype=int64)"
      ]
     },
     "execution_count": 1,
     "metadata": {},
     "output_type": "execute_result"
    }
   ],
   "source": [
    "from sklearn.cluster import DBSCAN\n",
    "import numpy as np\n",
    "X = np.array([[1, 2], [2, 2], [2, 3],\\\n",
    "              [8, 7], [8, 8], [25, 80]])\n",
    "clustering = DBSCAN(eps=3, min_samples=2).fit(X)\n",
    "clustering.labels_"
   ]
  },
  {
   "cell_type": "code",
   "execution_count": null,
   "metadata": {},
   "outputs": [],
   "source": []
  }
 ],
 "metadata": {
  "kernelspec": {
   "display_name": "Python 3",
   "language": "python",
   "name": "python3"
  },
  "language_info": {
   "codemirror_mode": {
    "name": "ipython",
    "version": 3
   },
   "file_extension": ".py",
   "mimetype": "text/x-python",
   "name": "python",
   "nbconvert_exporter": "python",
   "pygments_lexer": "ipython3",
   "version": "3.7.3"
  }
 },
 "nbformat": 4,
 "nbformat_minor": 2
}
