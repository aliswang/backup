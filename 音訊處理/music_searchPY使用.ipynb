{
 "cells": [
  {
   "cell_type": "code",
   "execution_count": 1,
   "id": "baking-failing",
   "metadata": {},
   "outputs": [],
   "source": [
    "import music_search"
   ]
  },
  {
   "cell_type": "code",
   "execution_count": 2,
   "id": "lyric-louisville",
   "metadata": {},
   "outputs": [],
   "source": [
    "test = music_search.music(music_list_data=\"12音節檔案列表.txt\", em_path=\"music_em_data2.txt\", nd_path=\"all_music.npy\")"
   ]
  },
  {
   "cell_type": "code",
   "execution_count": 3,
   "id": "civic-demographic",
   "metadata": {},
   "outputs": [
    {
     "name": "stdout",
     "output_type": "stream",
     "text": [
      "第267個: D:\\個人資料夾\\音樂\\其他\\MP3資料夾\\音樂\\影片\\SHINeeHello.mp3\n",
      "第711個: D:\\個人資料夾\\音樂\\曲\\OMFG-Hello, I Love You, Yeah, OK.mp3\n",
      "第2057個: D:\\個人資料夾\\音樂\\歌\\日文歌\\Hello,How are you.mp3\n",
      "第2353個: D:\\個人資料夾\\音樂\\歌\\韓文歌\\SHINee-Hello.mp3\n",
      "第2354個: D:\\個人資料夾\\音樂\\歌\\韓文歌\\SHINee-Hello_2.mp3\n"
     ]
    }
   ],
   "source": [
    "test.search(str_inp = \"Hello\")"
   ]
  },
  {
   "cell_type": "code",
   "execution_count": 4,
   "id": "valid-romantic",
   "metadata": {},
   "outputs": [
    {
     "data": {
      "text/plain": [
       "0.04302390216787104"
      ]
     },
     "execution_count": 4,
     "metadata": {},
     "output_type": "execute_result"
    }
   ],
   "source": [
    "test.get_em(711)"
   ]
  },
  {
   "cell_type": "code",
   "execution_count": 5,
   "id": "executive-philadelphia",
   "metadata": {
    "scrolled": true
   },
   "outputs": [
    {
     "name": "stdout",
     "output_type": "stream",
     "text": [
      "D:\\個人資料夾\\音樂\\Jazz In ParisMedia Right Productions (No Copyright Music).mp3\n",
      "D:\\個人資料夾\\音樂\\Kevin MacLeod _ Severe Tire Damage.mp3\n",
      "D:\\個人資料夾\\音樂\\Nicky RomeroToulouse.mp3\n",
      "D:\\個人資料夾\\音樂\\NightCore Just the way you are.mp3\n",
      "D:\\個人資料夾\\音樂\\SystileStay With You.mp3\n",
      "D:\\個人資料夾\\音樂\\其他\\minecraft\\Minecraft-I Am Believing.mp3\n",
      "D:\\個人資料夾\\音樂\\其他\\minecraft\\Minecraft-我找到鑽石了(I Just Found Diamonds)中文字幕720p.mp3\n",
      "D:\\個人資料夾\\音樂\\其他\\MP3資料夾\\音樂\\正的音樂\\Jay SeanDown.mp3\n",
      "D:\\個人資料夾\\音樂\\其他\\MP3資料夾\\音樂\\正的音樂\\疾风传.mp3\n",
      "D:\\個人資料夾\\音樂\\其他\\MP3資料夾\\音樂\\正的音樂\\范玮琪-最初的梦想.mp3\n",
      "D:\\個人資料夾\\音樂\\其他\\MP3資料夾\\音樂\\阿霖的音樂\\張韶涵隱形的翅膀.mp3\n",
      "D:\\個人資料夾\\音樂\\其他\\V家\\At Gods Mercyrerulili feat.Vocaloids 神のまにまにれるりりfeat.ミクリンGUMI.mp3\n",
      "D:\\個人資料夾\\音樂\\其他\\V家\\GUMI-神のまにまに.mp3\n",
      "D:\\個人資料夾\\音樂\\其他\\V家\\Miku Hatsune-Nyanyanyanyanyanyanya!.mp3\n",
      "D:\\個人資料夾\\音樂\\其他\\V家\\初音-Nyanyanyanyanyanyanya.mp3\n",
      "D:\\個人資料夾\\音樂\\曲\\Arrowhead Zentra-Funkyard.mp3\n",
      "D:\\個人資料夾\\音樂\\曲\\Marnik-Gladiators Dim Mak Records.mp3\n",
      "D:\\個人資料夾\\音樂\\曲\\OMFG-Hello\n",
      "D:\\個人資料夾\\音樂\\曲\\Sanixels-Gone.mp3\n",
      "D:\\個人資料夾\\音樂\\曲\\SanixelsGone.mp3\n",
      "D:\\個人資料夾\\音樂\\曲\\Zelda Lost Woods (Trap Remix).mp3\n",
      "D:\\個人資料夾\\音樂\\曲\\Hand Shakers\\Acro Jazz LaboratoriesOutro.mp3\n",
      "D:\\個人資料夾\\音樂\\曲\\Kevin MacLeod\\Kevin MacLeod _ Bit Quest.mp3\n",
      "D:\\個人資料夾\\音樂\\曲\\東方\\東方-幽閉サテライト-Labyrinth.mp3\n",
      "D:\\個人資料夾\\音樂\\歌\\Nightcore\\Nightcore Welcome To The World.mp3\n",
      "D:\\個人資料夾\\音樂\\歌\\Nightcore\\Nightcore-come and get it.mp3\n",
      "D:\\個人資料夾\\音樂\\歌\\Nightcore\\Nightcore-Crazy Kids.mp3\n",
      "D:\\個人資料夾\\音樂\\歌\\Nightcore\\Nightcore-Holy Virgin.mp3\n",
      "D:\\個人資料夾\\音樂\\歌\\Nightcore\\Nightcore-I Knew You Were Trouble.mp3\n",
      "D:\\個人資料夾\\音樂\\歌\\Nightcore\\Nightcore-I'm Insane.mp3\n",
      "D:\\個人資料夾\\音樂\\歌\\Nightcore\\Nightcore-Little Kandi Raver.mp3\n",
      "D:\\個人資料夾\\音樂\\歌\\Nightcore\\Nightcore-Monster.mp3\n",
      "D:\\個人資料夾\\音樂\\歌\\Nightcore\\Nightcore-Mr. Right.mp3\n",
      "D:\\個人資料夾\\音樂\\歌\\Nightcore\\Nightcore-Only Teardrops.mp3\n",
      "D:\\個人資料夾\\音樂\\歌\\Nightcore\\Nightcore-Wicked Wonderland.mp3\n",
      "D:\\個人資料夾\\音樂\\歌\\中文歌\\張韶涵-隱形的翅膀.mp3\n",
      "D:\\個人資料夾\\音樂\\歌\\中文歌\\范玮琪-最初的梦想.mp3\n",
      "D:\\個人資料夾\\音樂\\歌\\動漫歌曲\\火影忍者-疾风传.mp3\n",
      "D:\\個人資料夾\\音樂\\歌\\動漫歌曲\\Hand Shakers\\Acro Jazz LaboratoriesOutro.mp3\n",
      "D:\\個人資料夾\\音樂\\歌\\動漫歌曲\\東方\\東方-幽閉サテライト-Labyrinth.mp3\n",
      "D:\\個人資料夾\\音樂\\歌\\英文歌\\Jay Sean-Down.mp3\n",
      "D:\\個人資料夾\\音樂\\歌\\遊戲歌曲\\塞爾達傳說OST-Zelda Lost Woods.mp3\n",
      "D:\\個人資料夾\\音樂\\歌\\遊戲歌曲\\minecraft\\Minecraft-I Am Believing.mp3\n",
      "D:\\個人資料夾\\音樂\\歌\\遊戲歌曲\\minecraft\\Minecraft-我找到鑽石了(I Just Found Diamonds)中文字幕720p.mp3\n"
     ]
    }
   ],
   "source": [
    "test.em_search(0.042,0.044)"
   ]
  },
  {
   "cell_type": "code",
   "execution_count": 6,
   "id": "soviet-poster",
   "metadata": {},
   "outputs": [],
   "source": [
    "index_list, dist_list = test.near_list(711)"
   ]
  },
  {
   "cell_type": "code",
   "execution_count": 7,
   "id": "involved-alexander",
   "metadata": {},
   "outputs": [
    {
     "name": "stdout",
     "output_type": "stream",
     "text": [
      "第2199個: D:\\個人資料夾\\音樂\\歌\\遊戲歌曲\\彈彈堂音樂\\彈彈堂-东方妖怪小镇.mp3\n"
     ]
    }
   ],
   "source": [
    "test.search(index_inp = index_list[2])"
   ]
  },
  {
   "cell_type": "code",
   "execution_count": null,
   "id": "organizational-manhattan",
   "metadata": {},
   "outputs": [],
   "source": []
  }
 ],
 "metadata": {
  "kernelspec": {
   "display_name": "Python 3",
   "language": "python",
   "name": "python3"
  },
  "language_info": {
   "codemirror_mode": {
    "name": "ipython",
    "version": 3
   },
   "file_extension": ".py",
   "mimetype": "text/x-python",
   "name": "python",
   "nbconvert_exporter": "python",
   "pygments_lexer": "ipython3",
   "version": "3.7.10"
  }
 },
 "nbformat": 4,
 "nbformat_minor": 5
}
